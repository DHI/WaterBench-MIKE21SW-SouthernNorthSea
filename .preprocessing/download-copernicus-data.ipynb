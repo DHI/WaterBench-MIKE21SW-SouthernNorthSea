{
 "cells": [
  {
   "cell_type": "markdown",
   "id": "0a87e88b",
   "metadata": {},
   "source": [
    "# Copernicus data\n",
    "In this notebook we download observation data from Copernicus for some chosen stations."
   ]
  },
  {
   "cell_type": "markdown",
   "id": "ba57da6e",
   "metadata": {},
   "source": [
    "### Load packages"
   ]
  },
  {
   "cell_type": "code",
   "execution_count": 4,
   "id": "a4cbb61b",
   "metadata": {},
   "outputs": [],
   "source": [
    "import copernicusmarine\n",
    "from pprint import pprint\n",
    "import xarray as xr\n",
    "import matplotlib.pyplot as plt\n",
    "import pandas as pd\n",
    "import re\n",
    "import os"
   ]
  },
  {
   "cell_type": "markdown",
   "id": "c9500ae0",
   "metadata": {},
   "source": [
    "### Define parameters"
   ]
  },
  {
   "cell_type": "code",
   "execution_count": 5,
   "id": "7bd500cf",
   "metadata": {},
   "outputs": [],
   "source": [
    "username = 'mjessen'\n",
    "password = 'gM-Rzb4cS4Lwudk'\n",
    "dataset_id = 'cmems_obs-ins_glo_phybgcwav_mynrt_na_irr'\n",
    "part = 'latest'\n",
    "params_cat = 'waves'\n",
    "feature = 'TS'\n",
    "\n",
    "start_date = '2022-01-01'\n",
    "end_date = '2023-12-31'\n",
    "\n",
    "north = 56\n",
    "south = 50\n",
    "west = -2\n",
    "east = 10"
   ]
  },
  {
   "cell_type": "markdown",
   "id": "5a02db89",
   "metadata": {},
   "source": [
    "### Read index file"
   ]
  },
  {
   "cell_type": "code",
   "execution_count": 22,
   "id": "f7d89e4d",
   "metadata": {},
   "outputs": [
    {
     "name": "stdout",
     "output_type": "stream",
     "text": [
      "(542559, 12)\n"
     ]
    },
    {
     "data": {
      "text/plain": [
       "Index(['# product_id', 'file_name', 'geospatial_lat_min', 'geospatial_lat_max',\n",
       "       'geospatial_lon_min', 'geospatial_lon_max', 'time_coverage_start',\n",
       "       'time_coverage_end', 'institution', 'date_update', 'data_mode',\n",
       "       'parameters'],\n",
       "      dtype='object')"
      ]
     },
     "execution_count": 22,
     "metadata": {},
     "output_type": "execute_result"
    }
   ],
   "source": [
    "df = pd.read_csv(\"copernicus-data/index_monthly.txt\", skiprows=5)\n",
    "print(df.shape)\n",
    "df.columns"
   ]
  },
  {
   "cell_type": "markdown",
   "id": "a71d6040",
   "metadata": {},
   "source": [
    "### Filter stations by location and parameters"
   ]
  },
  {
   "cell_type": "code",
   "execution_count": 23,
   "id": "7cd8ca65",
   "metadata": {},
   "outputs": [
    {
     "name": "stdout",
     "output_type": "stream",
     "text": [
      "(113, 12)\n",
      "NO_TS_MO_6200041_202301.nc\n",
      "NO_TS_MO_6200042_202301.nc\n",
      "NO_TS_MO_6200170_202301.nc\n",
      "NO_TS_MO_6200304_202301.nc\n",
      "NO_TS_MO_6200305_202301.nc\n",
      "NO_TS_MO_6201008_202301.nc\n",
      "NO_TS_MO_6201009_202301.nc\n",
      "NO_TS_MO_6201010_202301.nc\n",
      "NO_TS_MO_6201011_202301.nc\n",
      "NO_TS_MO_6201012_202301.nc\n",
      "NO_TS_MO_6201013_202301.nc\n",
      "NO_TS_MO_6201014_202301.nc\n",
      "NO_TS_MO_6201015_202301.nc\n",
      "NO_TS_MO_6201017_202301.nc\n",
      "NO_TS_MO_6201018_202301.nc\n",
      "NO_TS_MO_6201019_202301.nc\n",
      "NO_TS_MO_6201045_202301.nc\n",
      "NO_TS_MO_6201046_202301.nc\n",
      "NO_TS_MO_6201047_202301.nc\n",
      "NO_TS_MO_6201050_202301.nc\n",
      "NO_TS_MO_6201051_202301.nc\n",
      "NO_TS_MO_6201052_202301.nc\n",
      "NO_TS_MO_6201059_202301.nc\n",
      "NO_TS_MO_6201067_202301.nc\n",
      "NO_TS_MO_6201068_202301.nc\n",
      "NO_TS_MO_6201082_202301.nc\n",
      "NO_TS_MO_6201083_202301.nc\n",
      "NO_TS_MO_6202109_202301.nc\n",
      "NO_TS_MO_6202110_202301.nc\n",
      "NO_TS_MO_6202112_202301.nc\n",
      "NO_TS_MO_6202600_202301.nc\n",
      "NO_TS_MO_6202601_202301.nc\n",
      "NO_TS_MO_6202603_202301.nc\n",
      "NO_TS_MO_A122_202301.nc\n",
      "NO_TS_MO_A2Buoy_202301.nc\n",
      "NO_TS_MO_AWG_202301.nc\n",
      "NO_TS_MO_AkkaertSouthwestBuoy_202301.nc\n",
      "NO_TS_MO_AlphaVentusBuoy_202301.nc\n",
      "NO_TS_MO_Bath_202301.nc\n",
      "NO_TS_MO_BolVanHeistBuoy_202301.nc\n",
      "NO_TS_MO_Brouwershavensegat_202301.nc\n",
      "NO_TS_MO_CadzandBoei_202301.nc\n",
      "NO_TS_MO_Deurlo_202301.nc\n",
      "NO_TS_MO_DeutscheBuchtBuoy_202301.nc\n",
      "NO_TS_MO_DomburgerRassen_202301.nc\n",
      "NO_TS_MO_EurogeulDWE_202301.nc\n",
      "NO_TS_MO_EurogeulE13_202301.nc\n",
      "NO_TS_MO_Europlatform2_202301.nc\n",
      "NO_TS_MO_Europlatform3_202301.nc\n",
      "NO_TS_MO_F3platform_202301.nc\n",
      "NO_TS_MO_Fanoebugt_202301.nc\n",
      "NO_TS_MO_Hansweert_202301.nc\n",
      "NO_TS_MO_HonteSloehaven_202301.nc\n",
      "NO_TS_MO_IJmuidenMunitiestort2_202301.nc\n",
      "NO_TS_MO_IJmuidenMunitiestort_202301.nc\n",
      "NO_TS_MO_J61_202301.nc\n",
      "NO_TS_MO_K13a2_202301.nc\n",
      "NO_TS_MO_K13a3_202301.nc\n",
      "NO_TS_MO_K13a_202301.nc\n",
      "NO_TS_MO_K141_202301.nc\n",
      "NO_TS_MO_KeetenBoei_202301.nc\n",
      "NO_TS_MO_KwintebankBuoy_202301.nc\n",
      "NO_TS_MO_L91_202301.nc\n",
      "NO_TS_MO_LichteilandGoeree1_202301.nc\n",
      "NO_TS_MO_LichteilandGoeree2_202301.nc\n",
      "NO_TS_MO_MaeslantkeringZeezijdeNoordMeetpaal_202301.nc\n",
      "NO_TS_MO_MaeslantkeringZeezijdeZuidMeetpaal_202301.nc\n",
      "NO_TS_MO_MarollegatMeetpaal_202301.nc\n",
      "NO_TS_MO_MeetboeiRZGN1_202301.nc\n",
      "NO_TS_MO_MeetboeiWEO1_202301.nc\n",
      "NO_TS_MO_MeetboeiWEW1_202301.nc\n",
      "NO_TS_MO_N10EBuoy_202301.nc\n",
      "NO_TS_MO_N10WBuoy_202301.nc\n",
      "NO_TS_MO_N9NBuoy_202301.nc\n",
      "NO_TS_MO_N9SBuoy_202301.nc\n",
      "NO_TS_MO_NOO_202301.nc\n",
      "NO_TS_MO_NieuwpoortBuoy_202301.nc\n",
      "NO_TS_MO_Nymindegab_202301.nc\n",
      "NO_TS_MO_Oosterschelde11_202301.nc\n",
      "NO_TS_MO_Oosterschelde4_202301.nc\n",
      "NO_TS_MO_OstendEasternPalisadeBuoy_202301.nc\n",
      "NO_TS_MO_OstendNorthBuoy_202301.nc\n",
      "NO_TS_MO_OstendPoortjesBuoy_202301.nc\n",
      "NO_TS_MO_OverloopVanValkenisse_202301.nc\n",
      "NO_TS_MO_PasVanTerneuzenBoei_202301.nc\n",
      "NO_TS_MO_Raversijde1Buoy_202301.nc\n",
      "NO_TS_MO_Raversijde2Buoy_202301.nc\n",
      "NO_TS_MO_Roompotsluis_202301.nc\n",
      "NO_TS_MO_RyeBayDWR_202301.nc\n",
      "NO_TS_MO_ScheurWielingenBuoy_202301.nc\n",
      "NO_TS_MO_SchiermonnikoogNoord_202301.nc\n",
      "NO_TS_MO_SchiermonnikoogWaggen_202301.nc\n",
      "NO_TS_MO_SchiermonnikoogWestgat_202301.nc\n",
      "NO_TS_MO_Schouwenbank2_202301.nc\n",
      "NO_TS_MO_Schouwenbank_202301.nc\n",
      "NO_TS_MO_StortemelkBoei_202301.nc\n",
      "NO_TS_MO_StortemelkOost_202301.nc\n",
      "NO_TS_MO_ThorntonbankSouthBuoy_202301.nc\n",
      "NO_TS_MO_TrapegeerBuoy_202301.nc\n",
      "NO_TS_MO_Uithuizerwad2_202301.nc\n",
      "NO_TS_MO_Uithuizerwad3_202301.nc\n",
      "NO_TS_MO_WaddenEierlandseGat_202301.nc\n",
      "NO_TS_MO_WandelaarBuoy_202301.nc\n",
      "NO_TS_MO_WesthinderBuoy_202301.nc\n",
      "NO_TS_MO_WielingenNoord_202301.nc\n",
      "NO_TS_MO_ZeebruggeZandopvangkadeBuoy_202301.nc\n",
      "NO_TS_MO_ZwinBuoy_202301.nc\n",
      "NO_TS_TG_DealPierTG_202301.nc\n",
      "NO_TS_TG_HastingsPierTG_202301.nc\n",
      "NO_TS_TG_HerneBayTG_202301.nc\n",
      "NO_TS_TG_LymingtonTG_202301.nc\n",
      "NO_TS_TG_SandownPierTG_202301.nc\n",
      "NO_TS_TG_SwanagePierTG_202301.nc\n"
     ]
    }
   ],
   "source": [
    "# Filter by location and parameters\n",
    "filtered_df = df[(df['geospatial_lat_min'] > south) &\n",
    "                 (df['geospatial_lat_max'] < north) &\n",
    "                 (df['geospatial_lon_min'] > west) &\n",
    "                 (df['geospatial_lon_max'] < east) &\n",
    "                 (df['geospatial_lon_max'] == df['geospatial_lon_min'] ) &\n",
    "                 (df['geospatial_lat_max'] == df['geospatial_lat_min'] ) &\n",
    "                 (df['parameters'].str.contains(\"VHM0\", na=False)) &\n",
    "                 #(df['parameters'].str.contains(\"VTZA\", na=False)) &\n",
    "                 #(df['parameters'].str.contains(\"VTM01\", na=False)) | (df['parameters'].str.contains(\"VTM02\", na=False))\n",
    "                 (df['file_name'].str.contains('202301'))\n",
    "                 #& (df['file_name'].str.contains('Q1'))\n",
    "                ]\n",
    "\n",
    "print(filtered_df.shape)\n",
    "\n",
    "# Copy df for later use\n",
    "file_df = filtered_df[['file_name']].copy()\n",
    "\n",
    "# Print basenames of filenames\n",
    "file_names = file_df['file_name']\n",
    "for name in file_names:\n",
    "    basename = os.path.basename(name)\n",
    "    print(basename)"
   ]
  },
  {
   "cell_type": "markdown",
   "id": "c4b0a529",
   "metadata": {},
   "source": [
    "### Add to stations.txt file"
   ]
  },
  {
   "cell_type": "code",
   "execution_count": 24,
   "id": "b8c14bc5",
   "metadata": {},
   "outputs": [],
   "source": [
    "with open(\"stations.txt\", \"w\") as f:\n",
    "    f.write('6200145\\n')\n",
    "    f.write('6200293\\n')\n",
    "    f.write('6201045\\n')\n",
    "    f.write('6201050\\n')\n",
    "    f.write('6201058\\n')\n",
    "    f.write('6200288\\n')\n",
    "    f.write('6200044\\n')\n",
    "    f.write('6201059\\n')\n",
    "    f.write('6200144\\n')\n",
    "    f.write('6201047\\n')\n",
    "    f.write('A121_\\n')\n",
    "    f.write('AkkaertSouthwestBuoy\\n')\n",
    "    f.write('Europlatform2\\n')\n",
    "    f.write('Europlatform3\\n')\n",
    "    f.write('F3platform\\n')\n",
    "    f.write('IJmuidenMunitiestort_\\n')\n",
    "    f.write('J61\\n')\n",
    "    f.write('K13a_\\n')\n",
    "    f.write('K141_\\n')\n",
    "    f.write('KeetenBoei\\n')\n",
    "    f.write('KwintebankBuoy\\n')\n",
    "    f.write('L91_\\n')\n",
    "    f.write('LichteilandGoeree1_\\n')\n",
    "    f.write('MaeslantkeringZeezijdeNoordMeetpaal\\n')\n",
    "    f.write('MaeslantkeringZeezijdeZuidMeetpaal\\n')\n",
    "    f.write('NieuwpoortBuoy\\n')\n",
    "    f.write('Nymindegab\\n')\n",
    "    f.write('Oosterschelde11\\n')\n",
    "    f.write('OstendEasternPalisadeBuoy\\n')\n",
    "    f.write('OverloopVanValkenisse\\n')\n",
    "    f.write('PasVanTerneuzenBoei\\n')\n",
    "    f.write('Q1_\\n')\n",
    "    f.write('WaddenEierlandseGat\\n')\n",
    "    f.write('WesthinderBuoy\\n')\n",
    "    f.write('ZeebruggeZandopvangkadeBuoy\\n')\n",
    "    f.write('ZwinBuoy\\n')"
   ]
  },
  {
   "cell_type": "code",
   "execution_count": 25,
   "id": "4b568f39",
   "metadata": {},
   "outputs": [],
   "source": [
    "with open(\"stations_new.txt\", \"w\") as f:\n",
    "    f.write('6200288\\n')\n",
    "    f.write('6200044\\n')\n",
    "    f.write('6201059\\n')\n",
    "    f.write('6200144\\n')\n",
    "    f.write('6201047\\n')"
   ]
  },
  {
   "cell_type": "markdown",
   "id": "17ba4c43",
   "metadata": {},
   "source": [
    "### Functions"
   ]
  },
  {
   "cell_type": "code",
   "execution_count": 26,
   "id": "cf849155",
   "metadata": {},
   "outputs": [],
   "source": [
    "def download_copernicus_data(filename, csv_path, output_directory, username, password, dataset_id):\n",
    "\n",
    "    with open (filename, \"r\") as f:\n",
    "        station_files = [line.strip() for line in f if line.strip()]\n",
    "        print(station_files)\n",
    "    \n",
    "    # Number of stations\n",
    "    n_stations = len(station_files)\n",
    "    print(f\"Number of stations: {n_stations}\")\n",
    "\n",
    "    # Modify station files\n",
    "    pattern = \"|\".join(re.escape(s) for s in station_files)  # escape in case of special characters\n",
    "\n",
    "    # Filter by location and parameters\n",
    "    filtered_df = df[(df['file_name'].str.contains(pattern, na=False)) & (df['file_name'].str.contains('202301')) ]\n",
    "    print(filtered_df.shape)\n",
    "\n",
    "    # Copy df for later use\n",
    "    file_df = filtered_df[['file_name']].copy()\n",
    "\n",
    "    # Print basenames of filenames\n",
    "    file_names = file_df['file_name']\n",
    "    for name in file_names:\n",
    "        basename = os.path.basename(name)\n",
    "        print(basename)\n",
    "    \n",
    "    # Update stations.csv file\n",
    "    stations_data = []\n",
    "\n",
    "    for station in station_files:\n",
    "        for name in filtered_df['file_name']:\n",
    "            if station in name:\n",
    "                row = filtered_df[filtered_df['file_name'] == name]\n",
    "                lat, lon = row['geospatial_lat_min'].values[0], row['geospatial_lon_min'].values[0]\n",
    "                stations_data.append({'station': station, 'lat': lat, 'lon': lon})\n",
    "\n",
    "    station_df = pd.DataFrame(stations_data)\n",
    "\n",
    "    # Keep only unique rows\n",
    "    df_unique = station_df.drop_duplicates(subset='station', keep='first')\n",
    "\n",
    "    # If file exists, load it and update\n",
    "    if os.path.exists(csv_path):\n",
    "        existing_df = pd.read_csv(csv_path)\n",
    "        # Concatenate and drop duplicates\n",
    "        updated_df = pd.concat([existing_df, df_unique], ignore_index=True)\n",
    "        updated_df = updated_df.drop_duplicates(subset='station', keep='first')\n",
    "    else:\n",
    "        updated_df = df_unique\n",
    "\n",
    "\n",
    "    # Save back\n",
    "    updated_df.to_csv(csv_path, index=False)\n",
    "    print(f\"Saved stations to {csv_path}\")\n",
    "\n",
    "    # Filter by location and parameters\n",
    "    filtered_df = df[(df['file_name'].str.contains(pattern, na=False))\n",
    "                    & (df['file_name'].str.contains('2023')) \n",
    "                    ]\n",
    "\n",
    "    print(filtered_df.shape)\n",
    "\n",
    "    # Copy df for later use\n",
    "    file_df = filtered_df[['file_name']].copy()\n",
    "\n",
    "    # Create output txt file with files to download\n",
    "    with open(\"output.txt\", \"w\") as f:\n",
    "        for filename in file_df[\"file_name\"]:\n",
    "            f.write(str(filename) + \"\\n\")\n",
    "\n",
    "    # Define list with files to download\n",
    "    file_list = 'output.txt'\n",
    "\n",
    "    # Download data from Copernicus\n",
    "    print(\"Starting download...\")\n",
    "    copernicusmarine.get(\n",
    "        username=username,\n",
    "        password=password,\n",
    "        dataset_id=dataset_id,\n",
    "        index_parts=False,\n",
    "        file_list = file_list,\n",
    "        output_directory=output_directory,\n",
    "        no_directories=True\n",
    "    )\n"
   ]
  },
  {
   "cell_type": "code",
   "execution_count": 27,
   "id": "d38615c2",
   "metadata": {},
   "outputs": [],
   "source": [
    "def convert_nc_to_csv(station_file, filename, obs_fldr, csv_fldr):\n",
    "    print(\"Converting .nc files to .csv files...\")\n",
    "\n",
    "    with open(station_file, \"r\") as f:\n",
    "        station_names = [line.strip() for line in f if line.strip()]\n",
    "\n",
    "    print(station_names)\n",
    "\n",
    "    # Get full file names from output.txt\n",
    "    with open(filename, \"r\") as f:\n",
    "        file_names = [line.strip() for line in f if line.strip()]\n",
    "    \n",
    "    print(file_names)\n",
    "\n",
    "    for station in station_names:\n",
    "        stations_data = []\n",
    "\n",
    "        for name in file_names:\n",
    "            if station in name:\n",
    "                # Load the NetCDF file\n",
    "                basename = os.path.basename(name)\n",
    "                ds = xr.open_dataset(os.path.join(obs_fldr, basename))\n",
    "\n",
    "                # Convert to dataframe\n",
    "                df = ds.to_dataframe().reset_index()\n",
    "\n",
    "                # Extract the wanted variables\n",
    "                wanted = ['TIME', 'VHM0', 'VTZA', 'VMDR', 'VTPK']\n",
    "                cols = [col for col in wanted if col in df.columns]\n",
    "\n",
    "                df = df[cols].copy()\n",
    "                df = df.dropna()\n",
    "\n",
    "                stations_data.append(df)\n",
    "        \n",
    "        #print(f\"Processed {basename} for station {station}\")\n",
    "        \n",
    "        if stations_data:\n",
    "            station_df = pd.concat(stations_data, ignore_index=True)\n",
    "            output_csv = os.path.join(csv_fldr, f\"{station}.csv\")\n",
    "            station_df.to_csv(output_csv, index=False)\n",
    "            print(f\"Saved data for station {station} to {output_csv}\")\n",
    "        else:\n",
    "            print(f\"No data found for station {station}\")\n",
    "\n",
    "    \n"
   ]
  },
  {
   "cell_type": "markdown",
   "id": "9c9ec11b",
   "metadata": {},
   "source": [
    "### Download copernicus data"
   ]
  },
  {
   "cell_type": "code",
   "execution_count": 11,
   "id": "d12c5a1c",
   "metadata": {},
   "outputs": [
    {
     "data": {
      "text/plain": [
       "'INSITU_GLO_PHYBGCWAV_DISCRETE_MYNRT_013_030/cmems_obs-ins_glo_phybgcwav_mynrt_na_irr_202311/monthly/MO/202310/NO_TS_MO_6200044_202310.nc'"
      ]
     },
     "execution_count": 11,
     "metadata": {},
     "output_type": "execute_result"
    }
   ],
   "source": [
    "with open(\"output.txt\") as f:\n",
    "    file_list = [line.strip() for line in f if line.strip()]  # removes empty lines\n",
    "\n",
    "\n",
    "file_list[0]"
   ]
  },
  {
   "cell_type": "code",
   "execution_count": 8,
   "id": "14efee00",
   "metadata": {},
   "outputs": [],
   "source": [
    "import os"
   ]
  },
  {
   "cell_type": "code",
   "execution_count": 14,
   "id": "f75029ae",
   "metadata": {},
   "outputs": [
    {
     "name": "stderr",
     "output_type": "stream",
     "text": [
      "INFO - 2025-09-15T14:02:58Z - Selected dataset version: \"202311\"\n",
      "INFO - 2025-09-15T14:02:58Z - Selected dataset part: \"latest\"\n",
      "Downloading files: 100%|██████████| 1/1 [00:01<00:00,  1.72s/it]\n"
     ]
    },
    {
     "data": {
      "text/plain": [
       "ResponseGet(files=[FileGet(s3_url='s3://mdl-native-01/native/INSITU_GLO_PHYBGCWAV_DISCRETE_MYNRT_013_030/cmems_obs-ins_glo_phybgcwav_mynrt_na_irr_202311/monthly/MO/202310/NO_TS_MO_6200044_202310.nc', https_url='https://s3.waw3-1.cloudferro.com/mdl-native-01/native/INSITU_GLO_PHYBGCWAV_DISCRETE_MYNRT_013_030/cmems_obs-ins_glo_phybgcwav_mynrt_na_irr_202311/monthly/MO/202310/NO_TS_MO_6200044_202310.nc', file_size=0.08996295928955078, last_modified_datetime='2025-09-04T21:19:37+00:00', etag='\"1ef8c1d049a0f21645f15061bdb9941b\"', file_format='.nc', output_directory=WindowsPath('raw-data'), filename='NO_TS_MO_6200044_202310.nc', file_path=WindowsPath('raw-data/NO_TS_MO_6200044_202310.nc'), file_status='DOWNLOADED')], files_deleted=None, files_not_found=None, number_of_files_to_download=1, total_size=0.08996295928955078, status='000', message='The request was successful.')"
      ]
     },
     "execution_count": 14,
     "metadata": {},
     "output_type": "execute_result"
    }
   ],
   "source": [
    "# Define list with files to download\n",
    "\n",
    "\n",
    "copernicusmarine.get(\n",
    "        username=username,\n",
    "        password=password,\n",
    "        dataset_id=dataset_id,\n",
    "        index_parts=False,\n",
    "        file_list = 'output.txt',\n",
    "        output_directory=\"./raw-data\",\n",
    "        no_directories=True)"
   ]
  },
  {
   "cell_type": "code",
   "execution_count": 28,
   "id": "e324103b",
   "metadata": {},
   "outputs": [
    {
     "name": "stdout",
     "output_type": "stream",
     "text": [
      "['6200145', '6200293', '6201045', '6201050', '6201058', '6200288', '6200044', '6201059', '6200144', '6201047', 'A121_', 'AkkaertSouthwestBuoy', 'Europlatform2', 'Europlatform3', 'F3platform', 'IJmuidenMunitiestort_', 'J61', 'K13a_', 'K141_', 'KeetenBoei', 'KwintebankBuoy', 'L91_', 'LichteilandGoeree1_', 'MaeslantkeringZeezijdeNoordMeetpaal', 'MaeslantkeringZeezijdeZuidMeetpaal', 'NieuwpoortBuoy', 'Nymindegab', 'Oosterschelde11', 'OstendEasternPalisadeBuoy', 'OverloopVanValkenisse', 'PasVanTerneuzenBoei', 'Q1_', 'WaddenEierlandseGat', 'WesthinderBuoy', 'ZeebruggeZandopvangkadeBuoy', 'ZwinBuoy']\n",
      "Number of stations: 36\n",
      "(33, 12)\n",
      "NO_TS_MO_6200144_202301.nc\n",
      "NO_TS_MO_6200145_202301.nc\n",
      "NO_TS_MO_6201045_202301.nc\n",
      "NO_TS_MO_6201047_202301.nc\n",
      "NO_TS_MO_6201050_202301.nc\n",
      "NO_TS_MO_6201059_202301.nc\n",
      "NO_TS_MO_AkkaertSouthwestBuoy_202301.nc\n",
      "NO_TS_MO_Europlatform2_202301.nc\n",
      "NO_TS_MO_Europlatform3_202301.nc\n",
      "NO_TS_MO_F3platform_202301.nc\n",
      "NO_TS_MO_IJmuidenMunitiestort_202301.nc\n",
      "NO_TS_MO_J61_202301.nc\n",
      "NO_TS_MO_K13a_202301.nc\n",
      "NO_TS_MO_K141_202301.nc\n",
      "NO_TS_MO_KeetenBoei_202301.nc\n",
      "NO_TS_MO_KwintebankBuoy_202301.nc\n",
      "NO_TS_MO_L91_202301.nc\n",
      "NO_TS_MO_LichteilandGoeree1_202301.nc\n",
      "NO_TS_MO_MaeslantkeringZeezijdeNoordMeetpaal_202301.nc\n",
      "NO_TS_MO_MaeslantkeringZeezijdeZuidMeetpaal_202301.nc\n",
      "NO_TS_MO_NieuwpoortBuoy_202301.nc\n",
      "NO_TS_MO_Nymindegab_202301.nc\n",
      "NO_TS_MO_Oosterschelde11_202301.nc\n",
      "NO_TS_MO_OstendEasternPalisadeBuoy_202301.nc\n",
      "NO_TS_MO_OverloopVanValkenisse_202301.nc\n",
      "NO_TS_MO_PasVanTerneuzenBoei_202301.nc\n",
      "NO_TS_MO_WaddenEierlandseGat_202301.nc\n",
      "NO_TS_MO_WesthinderBuoy_202301.nc\n",
      "NO_TS_MO_ZeebruggeZandopvangkadeBuoy_202301.nc\n",
      "NO_TS_MO_ZwinBuoy_202301.nc\n",
      "NO_TS_TG_F3platformTG_202301.nc\n",
      "NO_TS_TG_J61TG_202301.nc\n",
      "NO_TS_TG_Oosterschelde11TG_202301.nc\n",
      "Saved stations to ../observations/stations.csv\n",
      "(2165, 12)\n",
      "Starting download...\n"
     ]
    },
    {
     "name": "stderr",
     "output_type": "stream",
     "text": [
      "INFO - 2025-09-15T13:47:32Z - Selected dataset version: \"202311\"\n",
      "INFO - 2025-09-15T13:47:32Z - Selected dataset part: \"latest\"\n"
     ]
    },
    {
     "ename": "KeyboardInterrupt",
     "evalue": "",
     "output_type": "error",
     "traceback": [
      "\u001b[31m---------------------------------------------------------------------------\u001b[39m",
      "\u001b[31mKeyboardInterrupt\u001b[39m                         Traceback (most recent call last)",
      "\u001b[36mCell\u001b[39m\u001b[36m \u001b[39m\u001b[32mIn[28]\u001b[39m\u001b[32m, line 1\u001b[39m\n\u001b[32m----> \u001b[39m\u001b[32m1\u001b[39m \u001b[43mdownload_copernicus_data\u001b[49m\u001b[43m(\u001b[49m\u001b[43mfilename\u001b[49m\u001b[43m=\u001b[49m\u001b[33;43m\"\u001b[39;49m\u001b[33;43mstations.txt\u001b[39;49m\u001b[33;43m\"\u001b[39;49m\u001b[43m,\u001b[49m\u001b[43m \u001b[49m\u001b[43mcsv_path\u001b[49m\u001b[43m=\u001b[49m\u001b[33;43m'\u001b[39;49m\u001b[33;43m../observations/stations.csv\u001b[39;49m\u001b[33;43m'\u001b[39;49m\u001b[43m,\u001b[49m\u001b[43m \u001b[49m\u001b[43moutput_directory\u001b[49m\u001b[43m=\u001b[49m\u001b[33;43m'\u001b[39;49m\u001b[33;43m./raw-data\u001b[39;49m\u001b[33;43m'\u001b[39;49m\u001b[43m,\u001b[49m\u001b[43m \u001b[49m\u001b[43musername\u001b[49m\u001b[43m=\u001b[49m\u001b[43musername\u001b[49m\u001b[43m,\u001b[49m\u001b[43m \u001b[49m\u001b[43mpassword\u001b[49m\u001b[43m=\u001b[49m\u001b[43mpassword\u001b[49m\u001b[43m,\u001b[49m\u001b[43m \u001b[49m\u001b[43mdataset_id\u001b[49m\u001b[43m=\u001b[49m\u001b[43mdataset_id\u001b[49m\u001b[43m)\u001b[49m\n",
      "\u001b[36mCell\u001b[39m\u001b[36m \u001b[39m\u001b[32mIn[26]\u001b[39m\u001b[32m, line 76\u001b[39m, in \u001b[36mdownload_copernicus_data\u001b[39m\u001b[34m(filename, csv_path, output_directory, username, password, dataset_id)\u001b[39m\n\u001b[32m     74\u001b[39m \u001b[38;5;66;03m# Download data from Copernicus\u001b[39;00m\n\u001b[32m     75\u001b[39m \u001b[38;5;28mprint\u001b[39m(\u001b[33m\"\u001b[39m\u001b[33mStarting download...\u001b[39m\u001b[33m\"\u001b[39m)\n\u001b[32m---> \u001b[39m\u001b[32m76\u001b[39m \u001b[43mcopernicusmarine\u001b[49m\u001b[43m.\u001b[49m\u001b[43mget\u001b[49m\u001b[43m(\u001b[49m\n\u001b[32m     77\u001b[39m \u001b[43m    \u001b[49m\u001b[43musername\u001b[49m\u001b[43m=\u001b[49m\u001b[43musername\u001b[49m\u001b[43m,\u001b[49m\n\u001b[32m     78\u001b[39m \u001b[43m    \u001b[49m\u001b[43mpassword\u001b[49m\u001b[43m=\u001b[49m\u001b[43mpassword\u001b[49m\u001b[43m,\u001b[49m\n\u001b[32m     79\u001b[39m \u001b[43m    \u001b[49m\u001b[43mdataset_id\u001b[49m\u001b[43m=\u001b[49m\u001b[43mdataset_id\u001b[49m\u001b[43m,\u001b[49m\n\u001b[32m     80\u001b[39m \u001b[43m    \u001b[49m\u001b[43mindex_parts\u001b[49m\u001b[43m=\u001b[49m\u001b[38;5;28;43;01mFalse\u001b[39;49;00m\u001b[43m,\u001b[49m\n\u001b[32m     81\u001b[39m \u001b[43m    \u001b[49m\u001b[43mfile_list\u001b[49m\u001b[43m \u001b[49m\u001b[43m=\u001b[49m\u001b[43m \u001b[49m\u001b[43mfile_list\u001b[49m\u001b[43m,\u001b[49m\n\u001b[32m     82\u001b[39m \u001b[43m    \u001b[49m\u001b[43moutput_directory\u001b[49m\u001b[43m=\u001b[49m\u001b[43moutput_directory\u001b[49m\u001b[43m,\u001b[49m\n\u001b[32m     83\u001b[39m \u001b[43m    \u001b[49m\u001b[43mno_directories\u001b[49m\u001b[43m=\u001b[49m\u001b[38;5;28;43;01mTrue\u001b[39;49;00m\n\u001b[32m     84\u001b[39m \u001b[43m\u001b[49m\u001b[43m)\u001b[49m\n",
      "\u001b[36mFile \u001b[39m\u001b[32mc:\\Users\\muje\\Projects\\WaterBench-MIKE21SW-SouthernNorthSea\\.venv\\Lib\\site-packages\\copernicusmarine\\core_functions\\deprecated_options.py:78\u001b[39m, in \u001b[36mdeprecated_python_option.<locals>.deco.<locals>.wrapper\u001b[39m\u001b[34m(*args, **kwargs)\u001b[39m\n\u001b[32m     75\u001b[39m \u001b[38;5;129m@functools\u001b[39m.wraps(f)\n\u001b[32m     76\u001b[39m \u001b[38;5;28;01mdef\u001b[39;00m\u001b[38;5;250m \u001b[39m\u001b[34mwrapper\u001b[39m(*args, **kwargs):\n\u001b[32m     77\u001b[39m     rename_kwargs(f.\u001b[34m__name__\u001b[39m, kwargs, aliases)\n\u001b[32m---> \u001b[39m\u001b[32m78\u001b[39m     \u001b[38;5;28;01mreturn\u001b[39;00m \u001b[43mf\u001b[49m\u001b[43m(\u001b[49m\u001b[43m*\u001b[49m\u001b[43margs\u001b[49m\u001b[43m,\u001b[49m\u001b[43m \u001b[49m\u001b[43m*\u001b[49m\u001b[43m*\u001b[49m\u001b[43mkwargs\u001b[49m\u001b[43m)\u001b[49m\n",
      "\u001b[36mFile \u001b[39m\u001b[32mc:\\Users\\muje\\Projects\\WaterBench-MIKE21SW-SouthernNorthSea\\.venv\\Lib\\site-packages\\copernicusmarine\\python_interface\\exception_handler.py:13\u001b[39m, in \u001b[36mlog_exception_and_exit.<locals>.wrapper\u001b[39m\u001b[34m(*args, **kwargs)\u001b[39m\n\u001b[32m     10\u001b[39m \u001b[38;5;129m@wraps\u001b[39m(function)\n\u001b[32m     11\u001b[39m \u001b[38;5;28;01mdef\u001b[39;00m\u001b[38;5;250m \u001b[39m\u001b[34mwrapper\u001b[39m(*args, **kwargs):\n\u001b[32m     12\u001b[39m     \u001b[38;5;28;01mtry\u001b[39;00m:\n\u001b[32m---> \u001b[39m\u001b[32m13\u001b[39m         \u001b[38;5;28;01mreturn\u001b[39;00m \u001b[43mfunction\u001b[49m\u001b[43m(\u001b[49m\u001b[43m*\u001b[49m\u001b[43margs\u001b[49m\u001b[43m,\u001b[49m\u001b[43m \u001b[49m\u001b[43m*\u001b[49m\u001b[43m*\u001b[49m\u001b[43mkwargs\u001b[49m\u001b[43m)\u001b[49m\n\u001b[32m     14\u001b[39m     \u001b[38;5;28;01mexcept\u001b[39;00m click.Abort:\n\u001b[32m     15\u001b[39m         \u001b[38;5;28mprint\u001b[39m(\u001b[33m\"\u001b[39m\u001b[33mAbort\u001b[39m\u001b[33m\"\u001b[39m)\n",
      "\u001b[36mFile \u001b[39m\u001b[32mc:\\Users\\muje\\Projects\\WaterBench-MIKE21SW-SouthernNorthSea\\.venv\\Lib\\site-packages\\copernicusmarine\\python_interface\\get.py:129\u001b[39m, in \u001b[36mget\u001b[39m\u001b[34m(dataset_id, dataset_version, dataset_part, username, password, no_directories, output_directory, credentials_file, overwrite, request_file, filter, regex, file_list, create_file_list, index_parts, sync, sync_delete, skip_existing, dry_run, max_concurrent_requests, disable_progress_bar, staging)\u001b[39m\n\u001b[32m    127\u001b[39m file_list = pathlib.Path(file_list) \u001b[38;5;28;01mif\u001b[39;00m file_list \u001b[38;5;28;01melse\u001b[39;00m \u001b[38;5;28;01mNone\u001b[39;00m\n\u001b[32m    128\u001b[39m request_file = pathlib.Path(request_file) \u001b[38;5;28;01mif\u001b[39;00m request_file \u001b[38;5;28;01melse\u001b[39;00m \u001b[38;5;28;01mNone\u001b[39;00m\n\u001b[32m--> \u001b[39m\u001b[32m129\u001b[39m \u001b[38;5;28;01mreturn\u001b[39;00m \u001b[43mget_function\u001b[49m\u001b[43m(\u001b[49m\n\u001b[32m    130\u001b[39m \u001b[43m    \u001b[49m\u001b[43mdataset_id\u001b[49m\u001b[43m=\u001b[49m\u001b[43mdataset_id\u001b[49m\u001b[43m,\u001b[49m\n\u001b[32m    131\u001b[39m \u001b[43m    \u001b[49m\u001b[43mforce_dataset_version\u001b[49m\u001b[43m=\u001b[49m\u001b[43mdataset_version\u001b[49m\u001b[43m,\u001b[49m\n\u001b[32m    132\u001b[39m \u001b[43m    \u001b[49m\u001b[43mforce_dataset_part\u001b[49m\u001b[43m=\u001b[49m\u001b[43mdataset_part\u001b[49m\u001b[43m,\u001b[49m\n\u001b[32m    133\u001b[39m \u001b[43m    \u001b[49m\u001b[43musername\u001b[49m\u001b[43m=\u001b[49m\u001b[43musername\u001b[49m\u001b[43m,\u001b[49m\n\u001b[32m    134\u001b[39m \u001b[43m    \u001b[49m\u001b[43mpassword\u001b[49m\u001b[43m=\u001b[49m\u001b[43mpassword\u001b[49m\u001b[43m,\u001b[49m\n\u001b[32m    135\u001b[39m \u001b[43m    \u001b[49m\u001b[43mno_directories\u001b[49m\u001b[43m=\u001b[49m\u001b[43mno_directories\u001b[49m\u001b[43m,\u001b[49m\n\u001b[32m    136\u001b[39m \u001b[43m    \u001b[49m\u001b[43moutput_directory\u001b[49m\u001b[43m=\u001b[49m\u001b[43moutput_directory\u001b[49m\u001b[43m,\u001b[49m\n\u001b[32m    137\u001b[39m \u001b[43m    \u001b[49m\u001b[43mcredentials_file\u001b[49m\u001b[43m=\u001b[49m\u001b[43mcredentials_file\u001b[49m\u001b[43m,\u001b[49m\n\u001b[32m    138\u001b[39m \u001b[43m    \u001b[49m\u001b[43moverwrite\u001b[49m\u001b[43m=\u001b[49m\u001b[43moverwrite\u001b[49m\u001b[43m,\u001b[49m\n\u001b[32m    139\u001b[39m \u001b[43m    \u001b[49m\u001b[43mrequest_file\u001b[49m\u001b[43m=\u001b[49m\u001b[43mrequest_file\u001b[49m\u001b[43m,\u001b[49m\n\u001b[32m    140\u001b[39m \u001b[43m    \u001b[49m\u001b[43mfilter_option\u001b[49m\u001b[43m=\u001b[49m\u001b[38;5;28;43mfilter\u001b[39;49m\u001b[43m,\u001b[49m\n\u001b[32m    141\u001b[39m \u001b[43m    \u001b[49m\u001b[43mregex\u001b[49m\u001b[43m=\u001b[49m\u001b[43mregex\u001b[49m\u001b[43m,\u001b[49m\n\u001b[32m    142\u001b[39m \u001b[43m    \u001b[49m\u001b[43mfile_list_path\u001b[49m\u001b[43m=\u001b[49m\u001b[43mfile_list\u001b[49m\u001b[43m,\u001b[49m\n\u001b[32m    143\u001b[39m \u001b[43m    \u001b[49m\u001b[43mcreate_file_list\u001b[49m\u001b[43m=\u001b[49m\u001b[43mcreate_file_list\u001b[49m\u001b[43m,\u001b[49m\n\u001b[32m    144\u001b[39m \u001b[43m    \u001b[49m\u001b[43mindex_parts\u001b[49m\u001b[43m=\u001b[49m\u001b[43mindex_parts\u001b[49m\u001b[43m,\u001b[49m\n\u001b[32m    145\u001b[39m \u001b[43m    \u001b[49m\u001b[43msync\u001b[49m\u001b[43m=\u001b[49m\u001b[43msync\u001b[49m\u001b[43m,\u001b[49m\n\u001b[32m    146\u001b[39m \u001b[43m    \u001b[49m\u001b[43msync_delete\u001b[49m\u001b[43m=\u001b[49m\u001b[43msync_delete\u001b[49m\u001b[43m,\u001b[49m\n\u001b[32m    147\u001b[39m \u001b[43m    \u001b[49m\u001b[43mskip_existing\u001b[49m\u001b[43m=\u001b[49m\u001b[43mskip_existing\u001b[49m\u001b[43m,\u001b[49m\n\u001b[32m    148\u001b[39m \u001b[43m    \u001b[49m\u001b[43mdry_run\u001b[49m\u001b[43m=\u001b[49m\u001b[43mdry_run\u001b[49m\u001b[43m,\u001b[49m\n\u001b[32m    149\u001b[39m \u001b[43m    \u001b[49m\u001b[43mmax_concurrent_requests\u001b[49m\u001b[43m=\u001b[49m\u001b[43mmax_concurrent_requests\u001b[49m\u001b[43m,\u001b[49m\n\u001b[32m    150\u001b[39m \u001b[43m    \u001b[49m\u001b[43mdisable_progress_bar\u001b[49m\u001b[43m=\u001b[49m\u001b[43mdisable_progress_bar\u001b[49m\u001b[43m,\u001b[49m\n\u001b[32m    151\u001b[39m \u001b[43m    \u001b[49m\u001b[43mstaging\u001b[49m\u001b[43m=\u001b[49m\u001b[43mstaging\u001b[49m\u001b[43m,\u001b[49m\n\u001b[32m    152\u001b[39m \u001b[43m\u001b[49m\u001b[43m)\u001b[49m\n",
      "\u001b[36mFile \u001b[39m\u001b[32mc:\\Users\\muje\\Projects\\WaterBench-MIKE21SW-SouthernNorthSea\\.venv\\Lib\\site-packages\\copernicusmarine\\core_functions\\get.py:123\u001b[39m, in \u001b[36mget_function\u001b[39m\u001b[34m(dataset_id, force_dataset_version, force_dataset_part, username, password, no_directories, output_directory, credentials_file, overwrite, request_file, filter_option, regex, file_list_path, create_file_list, sync, sync_delete, index_parts, skip_existing, dry_run, max_concurrent_requests, disable_progress_bar, staging)\u001b[39m\n\u001b[32m    120\u001b[39m \u001b[38;5;28;01mif\u001b[39;00m create_file_list \u001b[38;5;129;01mor\u001b[39;00m dry_run:\n\u001b[32m    121\u001b[39m     get_request.dry_run = \u001b[38;5;28;01mTrue\u001b[39;00m\n\u001b[32m--> \u001b[39m\u001b[32m123\u001b[39m \u001b[38;5;28;01mreturn\u001b[39;00m \u001b[43m_run_get_request\u001b[49m\u001b[43m(\u001b[49m\n\u001b[32m    124\u001b[39m \u001b[43m    \u001b[49m\u001b[43musername\u001b[49m\u001b[43m=\u001b[49m\u001b[43musername\u001b[49m\u001b[43m,\u001b[49m\n\u001b[32m    125\u001b[39m \u001b[43m    \u001b[49m\u001b[43mpassword\u001b[49m\u001b[43m=\u001b[49m\u001b[43mpassword\u001b[49m\u001b[43m,\u001b[49m\n\u001b[32m    126\u001b[39m \u001b[43m    \u001b[49m\u001b[43mget_request\u001b[49m\u001b[43m=\u001b[49m\u001b[43mget_request\u001b[49m\u001b[43m,\u001b[49m\n\u001b[32m    127\u001b[39m \u001b[43m    \u001b[49m\u001b[43mcreate_file_list\u001b[49m\u001b[43m=\u001b[49m\u001b[43mcreate_file_list\u001b[49m\u001b[43m,\u001b[49m\n\u001b[32m    128\u001b[39m \u001b[43m    \u001b[49m\u001b[43mcredentials_file\u001b[49m\u001b[43m=\u001b[49m\u001b[43mcredentials_file\u001b[49m\u001b[43m,\u001b[49m\n\u001b[32m    129\u001b[39m \u001b[43m    \u001b[49m\u001b[43mmarine_datastore_config\u001b[49m\u001b[43m=\u001b[49m\u001b[43mmarine_datastore_config\u001b[49m\u001b[43m,\u001b[49m\n\u001b[32m    130\u001b[39m \u001b[43m    \u001b[49m\u001b[43mmax_concurrent_requests\u001b[49m\u001b[43m=\u001b[49m\u001b[43mmax_concurrent_requests\u001b[49m\u001b[43m,\u001b[49m\n\u001b[32m    131\u001b[39m \u001b[43m    \u001b[49m\u001b[43mdisable_progress_bar\u001b[49m\u001b[43m=\u001b[49m\u001b[43mdisable_progress_bar\u001b[49m\u001b[43m,\u001b[49m\n\u001b[32m    132\u001b[39m \u001b[43m    \u001b[49m\u001b[43mstaging\u001b[49m\u001b[43m=\u001b[49m\u001b[43mstaging\u001b[49m\u001b[43m,\u001b[49m\n\u001b[32m    133\u001b[39m \u001b[43m\u001b[49m\u001b[43m)\u001b[49m\n",
      "\u001b[36mFile \u001b[39m\u001b[32mc:\\Users\\muje\\Projects\\WaterBench-MIKE21SW-SouthernNorthSea\\.venv\\Lib\\site-packages\\copernicusmarine\\core_functions\\get.py:163\u001b[39m, in \u001b[36m_run_get_request\u001b[39m\u001b[34m(username, password, get_request, create_file_list, credentials_file, marine_datastore_config, max_concurrent_requests, disable_progress_bar, staging)\u001b[39m\n\u001b[32m    153\u001b[39m retrieval_service: RetrievalService = get_retrieval_service(\n\u001b[32m    154\u001b[39m     dataset_id=get_request.dataset_id,\n\u001b[32m    155\u001b[39m     force_dataset_version_label=get_request.force_dataset_version,\n\u001b[32m   (...)\u001b[39m\u001b[32m    160\u001b[39m     marine_datastore_config=marine_datastore_config,\n\u001b[32m    161\u001b[39m )\n\u001b[32m    162\u001b[39m get_request.dataset_url = retrieval_service.uri\n\u001b[32m--> \u001b[39m\u001b[32m163\u001b[39m downloaded_files = \u001b[43mdownload_original_files\u001b[49m\u001b[43m(\u001b[49m\n\u001b[32m    164\u001b[39m \u001b[43m    \u001b[49m\u001b[43musername\u001b[49m\u001b[43m,\u001b[49m\n\u001b[32m    165\u001b[39m \u001b[43m    \u001b[49m\u001b[43mpassword\u001b[49m\u001b[43m,\u001b[49m\n\u001b[32m    166\u001b[39m \u001b[43m    \u001b[49m\u001b[43mget_request\u001b[49m\u001b[43m,\u001b[49m\n\u001b[32m    167\u001b[39m \u001b[43m    \u001b[49m\u001b[43mmax_concurrent_requests\u001b[49m\u001b[43m,\u001b[49m\n\u001b[32m    168\u001b[39m \u001b[43m    \u001b[49m\u001b[43mdisable_progress_bar\u001b[49m\u001b[43m,\u001b[49m\n\u001b[32m    169\u001b[39m \u001b[43m    \u001b[49m\u001b[43mcreate_file_list\u001b[49m\u001b[43m,\u001b[49m\n\u001b[32m    170\u001b[39m \u001b[43m\u001b[49m\u001b[43m)\u001b[49m\n\u001b[32m    171\u001b[39m \u001b[38;5;28;01mreturn\u001b[39;00m downloaded_files\n",
      "\u001b[36mFile \u001b[39m\u001b[32mc:\\Users\\muje\\Projects\\WaterBench-MIKE21SW-SouthernNorthSea\\.venv\\Lib\\site-packages\\copernicusmarine\\download_functions\\download_original_files.py:51\u001b[39m, in \u001b[36mdownload_original_files\u001b[39m\u001b[34m(username, password, get_request, max_concurrent_requests, disable_progress_bar, create_file_list)\u001b[39m\n\u001b[32m     47\u001b[39m endpoint, bucket, path = parse_access_dataset_url(\n\u001b[32m     48\u001b[39m     \u001b[38;5;28mstr\u001b[39m(get_request.dataset_url)\n\u001b[32m     49\u001b[39m )\n\u001b[32m     50\u001b[39m \u001b[38;5;28;01mif\u001b[39;00m get_request.direct_download:\n\u001b[32m---> \u001b[39m\u001b[32m51\u001b[39m     files_headers = \u001b[43m_download_header_for_direct_download\u001b[49m\u001b[43m(\u001b[49m\n\u001b[32m     52\u001b[39m \u001b[43m        \u001b[49m\u001b[43mfiles_to_download\u001b[49m\u001b[43m=\u001b[49m\u001b[43mget_request\u001b[49m\u001b[43m.\u001b[49m\u001b[43mdirect_download\u001b[49m\u001b[43m,\u001b[49m\n\u001b[32m     53\u001b[39m \u001b[43m        \u001b[49m\u001b[43mendpoint_url\u001b[49m\u001b[43m=\u001b[49m\u001b[43mendpoint\u001b[49m\u001b[43m,\u001b[49m\n\u001b[32m     54\u001b[39m \u001b[43m        \u001b[49m\u001b[43mbucket\u001b[49m\u001b[43m=\u001b[49m\u001b[43mbucket\u001b[49m\u001b[43m,\u001b[49m\n\u001b[32m     55\u001b[39m \u001b[43m        \u001b[49m\u001b[43mpath\u001b[49m\u001b[43m=\u001b[49m\u001b[43mpath\u001b[49m\u001b[43m,\u001b[49m\n\u001b[32m     56\u001b[39m \u001b[43m        \u001b[49m\u001b[43msync\u001b[49m\u001b[43m=\u001b[49m\u001b[43mget_request\u001b[49m\u001b[43m.\u001b[49m\u001b[43msync\u001b[49m\u001b[43m,\u001b[49m\n\u001b[32m     57\u001b[39m \u001b[43m        \u001b[49m\u001b[43mdirectory_out\u001b[49m\u001b[43m=\u001b[49m\u001b[43mpathlib\u001b[49m\u001b[43m.\u001b[49m\u001b[43mPath\u001b[49m\u001b[43m(\u001b[49m\u001b[43mget_request\u001b[49m\u001b[43m.\u001b[49m\u001b[43moutput_directory\u001b[49m\u001b[43m)\u001b[49m\u001b[43m,\u001b[49m\n\u001b[32m     58\u001b[39m \u001b[43m        \u001b[49m\u001b[43musername\u001b[49m\u001b[43m=\u001b[49m\u001b[43musername\u001b[49m\u001b[43m,\u001b[49m\n\u001b[32m     59\u001b[39m \u001b[43m        \u001b[49m\u001b[43mno_directories\u001b[49m\u001b[43m=\u001b[49m\u001b[43mget_request\u001b[49m\u001b[43m.\u001b[49m\u001b[43mno_directories\u001b[49m\u001b[43m,\u001b[49m\n\u001b[32m     60\u001b[39m \u001b[43m        \u001b[49m\u001b[43moverwrite\u001b[49m\u001b[43m=\u001b[49m\u001b[43mget_request\u001b[49m\u001b[43m.\u001b[49m\u001b[43moverwrite\u001b[49m\u001b[43m,\u001b[49m\n\u001b[32m     61\u001b[39m \u001b[43m        \u001b[49m\u001b[43mskip_existing\u001b[49m\u001b[43m=\u001b[49m\u001b[43mget_request\u001b[49m\u001b[43m.\u001b[49m\u001b[43mskip_existing\u001b[49m\u001b[43m,\u001b[49m\n\u001b[32m     62\u001b[39m \u001b[43m    \u001b[49m\u001b[43m)\u001b[49m\n\u001b[32m     63\u001b[39m \u001b[38;5;28;01melse\u001b[39;00m:\n\u001b[32m     64\u001b[39m     files_headers = S3FilesDescriptor(endpoint=endpoint, bucket=bucket)\n",
      "\u001b[36mFile \u001b[39m\u001b[32mc:\\Users\\muje\\Projects\\WaterBench-MIKE21SW-SouthernNorthSea\\.venv\\Lib\\site-packages\\copernicusmarine\\download_functions\\download_original_files.py:413\u001b[39m, in \u001b[36m_download_header_for_direct_download\u001b[39m\u001b[34m(files_to_download, endpoint_url, bucket, path, sync, directory_out, username, no_directories, overwrite, skip_existing)\u001b[39m\n\u001b[32m    408\u001b[39m     \u001b[38;5;28;01mcontinue\u001b[39;00m\n\u001b[32m    409\u001b[39m full_path = (\n\u001b[32m    410\u001b[39m     \u001b[33mf\u001b[39m\u001b[33m\"\u001b[39m\u001b[33ms3://\u001b[39m\u001b[38;5;132;01m{\u001b[39;00mbucket\u001b[38;5;132;01m}\u001b[39;00m\u001b[33m/\u001b[39m\u001b[38;5;132;01m{\u001b[39;00mroot_folder\u001b[38;5;132;01m}\u001b[39;00m\u001b[33m/\u001b[39m\u001b[38;5;132;01m{\u001b[39;00mproduct_id\u001b[38;5;132;01m}\u001b[39;00m\u001b[33m/\u001b[39m\u001b[33m\"\u001b[39m\n\u001b[32m    411\u001b[39m     \u001b[33mf\u001b[39m\u001b[33m\"\u001b[39m\u001b[38;5;132;01m{\u001b[39;00mdataset_id_with_tag\u001b[38;5;132;01m}\u001b[39;00m\u001b[33m/\u001b[39m\u001b[38;5;132;01m{\u001b[39;00mfile_path\u001b[38;5;132;01m}\u001b[39;00m\u001b[33m\"\u001b[39m\n\u001b[32m    412\u001b[39m )\n\u001b[32m--> \u001b[39m\u001b[32m413\u001b[39m size_last_modified_and_etag = \u001b[43m_get_file_size_last_modified_and_etag\u001b[49m\u001b[43m(\u001b[49m\n\u001b[32m    414\u001b[39m \u001b[43m    \u001b[49m\u001b[43mendpoint_url\u001b[49m\u001b[43m,\u001b[49m\u001b[43m \u001b[49m\u001b[43mbucket\u001b[49m\u001b[43m,\u001b[49m\u001b[43m \u001b[49m\u001b[43mfull_path\u001b[49m\u001b[43m,\u001b[49m\u001b[43m \u001b[49m\u001b[43musername\u001b[49m\n\u001b[32m    415\u001b[39m \u001b[43m\u001b[49m\u001b[43m)\u001b[49m\n\u001b[32m    416\u001b[39m \u001b[38;5;28;01mif\u001b[39;00m size_last_modified_and_etag:\n\u001b[32m    417\u001b[39m     size, last_modified, etag = size_last_modified_and_etag\n",
      "\u001b[36mFile \u001b[39m\u001b[32mc:\\Users\\muje\\Projects\\WaterBench-MIKE21SW-SouthernNorthSea\\.venv\\Lib\\site-packages\\copernicusmarine\\download_functions\\download_original_files.py:586\u001b[39m, in \u001b[36m_get_file_size_last_modified_and_etag\u001b[39m\u001b[34m(endpoint_url, bucket, file_in, username)\u001b[39m\n\u001b[32m    581\u001b[39m s3_client, _ = get_configured_boto3_session(\n\u001b[32m    582\u001b[39m     endpoint_url, [\u001b[33m\"\u001b[39m\u001b[33mHeadObject\u001b[39m\u001b[33m\"\u001b[39m], username\n\u001b[32m    583\u001b[39m )\n\u001b[32m    585\u001b[39m \u001b[38;5;28;01mtry\u001b[39;00m:\n\u001b[32m--> \u001b[39m\u001b[32m586\u001b[39m     s3_object = \u001b[43ms3_client\u001b[49m\u001b[43m.\u001b[49m\u001b[43mhead_object\u001b[49m\u001b[43m(\u001b[49m\n\u001b[32m    587\u001b[39m \u001b[43m        \u001b[49m\u001b[43mBucket\u001b[49m\u001b[43m=\u001b[49m\u001b[43mbucket\u001b[49m\u001b[43m,\u001b[49m\n\u001b[32m    588\u001b[39m \u001b[43m        \u001b[49m\u001b[43mKey\u001b[49m\u001b[43m=\u001b[49m\u001b[43mfile_in\u001b[49m\u001b[43m.\u001b[49m\u001b[43mreplace\u001b[49m\u001b[43m(\u001b[49m\u001b[33;43mf\u001b[39;49m\u001b[33;43m\"\u001b[39;49m\u001b[33;43ms3://\u001b[39;49m\u001b[38;5;132;43;01m{\u001b[39;49;00m\u001b[43mbucket\u001b[49m\u001b[38;5;132;43;01m}\u001b[39;49;00m\u001b[33;43m/\u001b[39;49m\u001b[33;43m\"\u001b[39;49m\u001b[43m,\u001b[49m\u001b[43m \u001b[49m\u001b[33;43m\"\u001b[39;49m\u001b[33;43m\"\u001b[39;49m\u001b[43m)\u001b[49m\u001b[43m,\u001b[49m\n\u001b[32m    589\u001b[39m \u001b[43m    \u001b[49m\u001b[43m)\u001b[49m\n\u001b[32m    590\u001b[39m     \u001b[38;5;28;01mreturn\u001b[39;00m (\n\u001b[32m    591\u001b[39m         s3_object[\u001b[33m\"\u001b[39m\u001b[33mContentLength\u001b[39m\u001b[33m\"\u001b[39m],\n\u001b[32m    592\u001b[39m         s3_object[\u001b[33m\"\u001b[39m\u001b[33mLastModified\u001b[39m\u001b[33m\"\u001b[39m].astimezone(tz=UTC),\n\u001b[32m    593\u001b[39m         s3_object[\u001b[33m\"\u001b[39m\u001b[33mETag\u001b[39m\u001b[33m\"\u001b[39m],\n\u001b[32m    594\u001b[39m     )\n\u001b[32m    595\u001b[39m \u001b[38;5;28;01mexcept\u001b[39;00m ClientError \u001b[38;5;28;01mas\u001b[39;00m e:\n",
      "\u001b[36mFile \u001b[39m\u001b[32mc:\\Users\\muje\\Projects\\WaterBench-MIKE21SW-SouthernNorthSea\\.venv\\Lib\\site-packages\\botocore\\client.py:602\u001b[39m, in \u001b[36mClientCreator._create_api_method.<locals>._api_call\u001b[39m\u001b[34m(self, *args, **kwargs)\u001b[39m\n\u001b[32m    598\u001b[39m     \u001b[38;5;28;01mraise\u001b[39;00m \u001b[38;5;167;01mTypeError\u001b[39;00m(\n\u001b[32m    599\u001b[39m         \u001b[33mf\u001b[39m\u001b[33m\"\u001b[39m\u001b[38;5;132;01m{\u001b[39;00mpy_operation_name\u001b[38;5;132;01m}\u001b[39;00m\u001b[33m() only accepts keyword arguments.\u001b[39m\u001b[33m\"\u001b[39m\n\u001b[32m    600\u001b[39m     )\n\u001b[32m    601\u001b[39m \u001b[38;5;66;03m# The \"self\" in this scope is referring to the BaseClient.\u001b[39;00m\n\u001b[32m--> \u001b[39m\u001b[32m602\u001b[39m \u001b[38;5;28;01mreturn\u001b[39;00m \u001b[38;5;28;43mself\u001b[39;49m\u001b[43m.\u001b[49m\u001b[43m_make_api_call\u001b[49m\u001b[43m(\u001b[49m\u001b[43moperation_name\u001b[49m\u001b[43m,\u001b[49m\u001b[43m \u001b[49m\u001b[43mkwargs\u001b[49m\u001b[43m)\u001b[49m\n",
      "\u001b[36mFile \u001b[39m\u001b[32mc:\\Users\\muje\\Projects\\WaterBench-MIKE21SW-SouthernNorthSea\\.venv\\Lib\\site-packages\\botocore\\context.py:123\u001b[39m, in \u001b[36mwith_current_context.<locals>.decorator.<locals>.wrapper\u001b[39m\u001b[34m(*args, **kwargs)\u001b[39m\n\u001b[32m    121\u001b[39m \u001b[38;5;28;01mif\u001b[39;00m hook:\n\u001b[32m    122\u001b[39m     hook()\n\u001b[32m--> \u001b[39m\u001b[32m123\u001b[39m \u001b[38;5;28;01mreturn\u001b[39;00m \u001b[43mfunc\u001b[49m\u001b[43m(\u001b[49m\u001b[43m*\u001b[49m\u001b[43margs\u001b[49m\u001b[43m,\u001b[49m\u001b[43m \u001b[49m\u001b[43m*\u001b[49m\u001b[43m*\u001b[49m\u001b[43mkwargs\u001b[49m\u001b[43m)\u001b[49m\n",
      "\u001b[36mFile \u001b[39m\u001b[32mc:\\Users\\muje\\Projects\\WaterBench-MIKE21SW-SouthernNorthSea\\.venv\\Lib\\site-packages\\botocore\\client.py:1060\u001b[39m, in \u001b[36mBaseClient._make_api_call\u001b[39m\u001b[34m(self, operation_name, api_params)\u001b[39m\n\u001b[32m   1056\u001b[39m     maybe_compress_request(\n\u001b[32m   1057\u001b[39m         \u001b[38;5;28mself\u001b[39m.meta.config, request_dict, operation_model\n\u001b[32m   1058\u001b[39m     )\n\u001b[32m   1059\u001b[39m     apply_request_checksum(request_dict)\n\u001b[32m-> \u001b[39m\u001b[32m1060\u001b[39m     http, parsed_response = \u001b[38;5;28;43mself\u001b[39;49m\u001b[43m.\u001b[49m\u001b[43m_make_request\u001b[49m\u001b[43m(\u001b[49m\n\u001b[32m   1061\u001b[39m \u001b[43m        \u001b[49m\u001b[43moperation_model\u001b[49m\u001b[43m,\u001b[49m\u001b[43m \u001b[49m\u001b[43mrequest_dict\u001b[49m\u001b[43m,\u001b[49m\u001b[43m \u001b[49m\u001b[43mrequest_context\u001b[49m\n\u001b[32m   1062\u001b[39m \u001b[43m    \u001b[49m\u001b[43m)\u001b[49m\n\u001b[32m   1064\u001b[39m \u001b[38;5;28mself\u001b[39m.meta.events.emit(\n\u001b[32m   1065\u001b[39m     \u001b[33mf\u001b[39m\u001b[33m'\u001b[39m\u001b[33mafter-call.\u001b[39m\u001b[38;5;132;01m{\u001b[39;00mservice_id\u001b[38;5;132;01m}\u001b[39;00m\u001b[33m.\u001b[39m\u001b[38;5;132;01m{\u001b[39;00moperation_name\u001b[38;5;132;01m}\u001b[39;00m\u001b[33m'\u001b[39m,\n\u001b[32m   1066\u001b[39m     http_response=http,\n\u001b[32m   (...)\u001b[39m\u001b[32m   1069\u001b[39m     context=request_context,\n\u001b[32m   1070\u001b[39m )\n\u001b[32m   1072\u001b[39m \u001b[38;5;28;01mif\u001b[39;00m http.status_code >= \u001b[32m300\u001b[39m:\n",
      "\u001b[36mFile \u001b[39m\u001b[32mc:\\Users\\muje\\Projects\\WaterBench-MIKE21SW-SouthernNorthSea\\.venv\\Lib\\site-packages\\botocore\\client.py:1084\u001b[39m, in \u001b[36mBaseClient._make_request\u001b[39m\u001b[34m(self, operation_model, request_dict, request_context)\u001b[39m\n\u001b[32m   1082\u001b[39m \u001b[38;5;28;01mdef\u001b[39;00m\u001b[38;5;250m \u001b[39m\u001b[34m_make_request\u001b[39m(\u001b[38;5;28mself\u001b[39m, operation_model, request_dict, request_context):\n\u001b[32m   1083\u001b[39m     \u001b[38;5;28;01mtry\u001b[39;00m:\n\u001b[32m-> \u001b[39m\u001b[32m1084\u001b[39m         \u001b[38;5;28;01mreturn\u001b[39;00m \u001b[38;5;28;43mself\u001b[39;49m\u001b[43m.\u001b[49m\u001b[43m_endpoint\u001b[49m\u001b[43m.\u001b[49m\u001b[43mmake_request\u001b[49m\u001b[43m(\u001b[49m\u001b[43moperation_model\u001b[49m\u001b[43m,\u001b[49m\u001b[43m \u001b[49m\u001b[43mrequest_dict\u001b[49m\u001b[43m)\u001b[49m\n\u001b[32m   1085\u001b[39m     \u001b[38;5;28;01mexcept\u001b[39;00m \u001b[38;5;167;01mException\u001b[39;00m \u001b[38;5;28;01mas\u001b[39;00m e:\n\u001b[32m   1086\u001b[39m         \u001b[38;5;28mself\u001b[39m.meta.events.emit(\n\u001b[32m   1087\u001b[39m             \u001b[33mf\u001b[39m\u001b[33m'\u001b[39m\u001b[33mafter-call-error.\u001b[39m\u001b[38;5;132;01m{\u001b[39;00m\u001b[38;5;28mself\u001b[39m._service_model.service_id.hyphenize()\u001b[38;5;132;01m}\u001b[39;00m\u001b[33m.\u001b[39m\u001b[38;5;132;01m{\u001b[39;00moperation_model.name\u001b[38;5;132;01m}\u001b[39;00m\u001b[33m'\u001b[39m,\n\u001b[32m   1088\u001b[39m             exception=e,\n\u001b[32m   1089\u001b[39m             context=request_context,\n\u001b[32m   1090\u001b[39m         )\n",
      "\u001b[36mFile \u001b[39m\u001b[32mc:\\Users\\muje\\Projects\\WaterBench-MIKE21SW-SouthernNorthSea\\.venv\\Lib\\site-packages\\botocore\\endpoint.py:119\u001b[39m, in \u001b[36mEndpoint.make_request\u001b[39m\u001b[34m(self, operation_model, request_dict)\u001b[39m\n\u001b[32m    113\u001b[39m \u001b[38;5;28;01mdef\u001b[39;00m\u001b[38;5;250m \u001b[39m\u001b[34mmake_request\u001b[39m(\u001b[38;5;28mself\u001b[39m, operation_model, request_dict):\n\u001b[32m    114\u001b[39m     logger.debug(\n\u001b[32m    115\u001b[39m         \u001b[33m\"\u001b[39m\u001b[33mMaking request for \u001b[39m\u001b[38;5;132;01m%s\u001b[39;00m\u001b[33m with params: \u001b[39m\u001b[38;5;132;01m%s\u001b[39;00m\u001b[33m\"\u001b[39m,\n\u001b[32m    116\u001b[39m         operation_model,\n\u001b[32m    117\u001b[39m         request_dict,\n\u001b[32m    118\u001b[39m     )\n\u001b[32m--> \u001b[39m\u001b[32m119\u001b[39m     \u001b[38;5;28;01mreturn\u001b[39;00m \u001b[38;5;28;43mself\u001b[39;49m\u001b[43m.\u001b[49m\u001b[43m_send_request\u001b[49m\u001b[43m(\u001b[49m\u001b[43mrequest_dict\u001b[49m\u001b[43m,\u001b[49m\u001b[43m \u001b[49m\u001b[43moperation_model\u001b[49m\u001b[43m)\u001b[49m\n",
      "\u001b[36mFile \u001b[39m\u001b[32mc:\\Users\\muje\\Projects\\WaterBench-MIKE21SW-SouthernNorthSea\\.venv\\Lib\\site-packages\\botocore\\endpoint.py:197\u001b[39m, in \u001b[36mEndpoint._send_request\u001b[39m\u001b[34m(self, request_dict, operation_model)\u001b[39m\n\u001b[32m    195\u001b[39m \u001b[38;5;28mself\u001b[39m._update_retries_context(context, attempts)\n\u001b[32m    196\u001b[39m request = \u001b[38;5;28mself\u001b[39m.create_request(request_dict, operation_model)\n\u001b[32m--> \u001b[39m\u001b[32m197\u001b[39m success_response, exception = \u001b[38;5;28;43mself\u001b[39;49m\u001b[43m.\u001b[49m\u001b[43m_get_response\u001b[49m\u001b[43m(\u001b[49m\n\u001b[32m    198\u001b[39m \u001b[43m    \u001b[49m\u001b[43mrequest\u001b[49m\u001b[43m,\u001b[49m\u001b[43m \u001b[49m\u001b[43moperation_model\u001b[49m\u001b[43m,\u001b[49m\u001b[43m \u001b[49m\u001b[43mcontext\u001b[49m\n\u001b[32m    199\u001b[39m \u001b[43m\u001b[49m\u001b[43m)\u001b[49m\n\u001b[32m    200\u001b[39m \u001b[38;5;28;01mwhile\u001b[39;00m \u001b[38;5;28mself\u001b[39m._needs_retry(\n\u001b[32m    201\u001b[39m     attempts,\n\u001b[32m    202\u001b[39m     operation_model,\n\u001b[32m   (...)\u001b[39m\u001b[32m    205\u001b[39m     exception,\n\u001b[32m    206\u001b[39m ):\n\u001b[32m    207\u001b[39m     attempts += \u001b[32m1\u001b[39m\n",
      "\u001b[36mFile \u001b[39m\u001b[32mc:\\Users\\muje\\Projects\\WaterBench-MIKE21SW-SouthernNorthSea\\.venv\\Lib\\site-packages\\botocore\\endpoint.py:239\u001b[39m, in \u001b[36mEndpoint._get_response\u001b[39m\u001b[34m(self, request, operation_model, context)\u001b[39m\n\u001b[32m    233\u001b[39m \u001b[38;5;28;01mdef\u001b[39;00m\u001b[38;5;250m \u001b[39m\u001b[34m_get_response\u001b[39m(\u001b[38;5;28mself\u001b[39m, request, operation_model, context):\n\u001b[32m    234\u001b[39m     \u001b[38;5;66;03m# This will return a tuple of (success_response, exception)\u001b[39;00m\n\u001b[32m    235\u001b[39m     \u001b[38;5;66;03m# and success_response is itself a tuple of\u001b[39;00m\n\u001b[32m    236\u001b[39m     \u001b[38;5;66;03m# (http_response, parsed_dict).\u001b[39;00m\n\u001b[32m    237\u001b[39m     \u001b[38;5;66;03m# If an exception occurs then the success_response is None.\u001b[39;00m\n\u001b[32m    238\u001b[39m     \u001b[38;5;66;03m# If no exception occurs then exception is None.\u001b[39;00m\n\u001b[32m--> \u001b[39m\u001b[32m239\u001b[39m     success_response, exception = \u001b[38;5;28;43mself\u001b[39;49m\u001b[43m.\u001b[49m\u001b[43m_do_get_response\u001b[49m\u001b[43m(\u001b[49m\n\u001b[32m    240\u001b[39m \u001b[43m        \u001b[49m\u001b[43mrequest\u001b[49m\u001b[43m,\u001b[49m\u001b[43m \u001b[49m\u001b[43moperation_model\u001b[49m\u001b[43m,\u001b[49m\u001b[43m \u001b[49m\u001b[43mcontext\u001b[49m\n\u001b[32m    241\u001b[39m \u001b[43m    \u001b[49m\u001b[43m)\u001b[49m\n\u001b[32m    242\u001b[39m     kwargs_to_emit = {\n\u001b[32m    243\u001b[39m         \u001b[33m'\u001b[39m\u001b[33mresponse_dict\u001b[39m\u001b[33m'\u001b[39m: \u001b[38;5;28;01mNone\u001b[39;00m,\n\u001b[32m    244\u001b[39m         \u001b[33m'\u001b[39m\u001b[33mparsed_response\u001b[39m\u001b[33m'\u001b[39m: \u001b[38;5;28;01mNone\u001b[39;00m,\n\u001b[32m    245\u001b[39m         \u001b[33m'\u001b[39m\u001b[33mcontext\u001b[39m\u001b[33m'\u001b[39m: context,\n\u001b[32m    246\u001b[39m         \u001b[33m'\u001b[39m\u001b[33mexception\u001b[39m\u001b[33m'\u001b[39m: exception,\n\u001b[32m    247\u001b[39m     }\n\u001b[32m    248\u001b[39m     \u001b[38;5;28;01mif\u001b[39;00m success_response \u001b[38;5;129;01mis\u001b[39;00m \u001b[38;5;129;01mnot\u001b[39;00m \u001b[38;5;28;01mNone\u001b[39;00m:\n",
      "\u001b[36mFile \u001b[39m\u001b[32mc:\\Users\\muje\\Projects\\WaterBench-MIKE21SW-SouthernNorthSea\\.venv\\Lib\\site-packages\\botocore\\endpoint.py:279\u001b[39m, in \u001b[36mEndpoint._do_get_response\u001b[39m\u001b[34m(self, request, operation_model, context)\u001b[39m\n\u001b[32m    277\u001b[39m     http_response = first_non_none_response(responses)\n\u001b[32m    278\u001b[39m     \u001b[38;5;28;01mif\u001b[39;00m http_response \u001b[38;5;129;01mis\u001b[39;00m \u001b[38;5;28;01mNone\u001b[39;00m:\n\u001b[32m--> \u001b[39m\u001b[32m279\u001b[39m         http_response = \u001b[38;5;28;43mself\u001b[39;49m\u001b[43m.\u001b[49m\u001b[43m_send\u001b[49m\u001b[43m(\u001b[49m\u001b[43mrequest\u001b[49m\u001b[43m)\u001b[49m\n\u001b[32m    280\u001b[39m \u001b[38;5;28;01mexcept\u001b[39;00m HTTPClientError \u001b[38;5;28;01mas\u001b[39;00m e:\n\u001b[32m    281\u001b[39m     \u001b[38;5;28;01mreturn\u001b[39;00m (\u001b[38;5;28;01mNone\u001b[39;00m, e)\n",
      "\u001b[36mFile \u001b[39m\u001b[32mc:\\Users\\muje\\Projects\\WaterBench-MIKE21SW-SouthernNorthSea\\.venv\\Lib\\site-packages\\botocore\\endpoint.py:383\u001b[39m, in \u001b[36mEndpoint._send\u001b[39m\u001b[34m(self, request)\u001b[39m\n\u001b[32m    382\u001b[39m \u001b[38;5;28;01mdef\u001b[39;00m\u001b[38;5;250m \u001b[39m\u001b[34m_send\u001b[39m(\u001b[38;5;28mself\u001b[39m, request):\n\u001b[32m--> \u001b[39m\u001b[32m383\u001b[39m     \u001b[38;5;28;01mreturn\u001b[39;00m \u001b[38;5;28;43mself\u001b[39;49m\u001b[43m.\u001b[49m\u001b[43mhttp_session\u001b[49m\u001b[43m.\u001b[49m\u001b[43msend\u001b[49m\u001b[43m(\u001b[49m\u001b[43mrequest\u001b[49m\u001b[43m)\u001b[49m\n",
      "\u001b[36mFile \u001b[39m\u001b[32mc:\\Users\\muje\\Projects\\WaterBench-MIKE21SW-SouthernNorthSea\\.venv\\Lib\\site-packages\\botocore\\httpsession.py:465\u001b[39m, in \u001b[36mURLLib3Session.send\u001b[39m\u001b[34m(self, request)\u001b[39m\n\u001b[32m    462\u001b[39m     conn.proxy_headers[\u001b[33m'\u001b[39m\u001b[33mhost\u001b[39m\u001b[33m'\u001b[39m] = host\n\u001b[32m    464\u001b[39m request_target = \u001b[38;5;28mself\u001b[39m._get_request_target(request.url, proxy_url)\n\u001b[32m--> \u001b[39m\u001b[32m465\u001b[39m urllib_response = \u001b[43mconn\u001b[49m\u001b[43m.\u001b[49m\u001b[43murlopen\u001b[49m\u001b[43m(\u001b[49m\n\u001b[32m    466\u001b[39m \u001b[43m    \u001b[49m\u001b[43mmethod\u001b[49m\u001b[43m=\u001b[49m\u001b[43mrequest\u001b[49m\u001b[43m.\u001b[49m\u001b[43mmethod\u001b[49m\u001b[43m,\u001b[49m\n\u001b[32m    467\u001b[39m \u001b[43m    \u001b[49m\u001b[43murl\u001b[49m\u001b[43m=\u001b[49m\u001b[43mrequest_target\u001b[49m\u001b[43m,\u001b[49m\n\u001b[32m    468\u001b[39m \u001b[43m    \u001b[49m\u001b[43mbody\u001b[49m\u001b[43m=\u001b[49m\u001b[43mrequest\u001b[49m\u001b[43m.\u001b[49m\u001b[43mbody\u001b[49m\u001b[43m,\u001b[49m\n\u001b[32m    469\u001b[39m \u001b[43m    \u001b[49m\u001b[43mheaders\u001b[49m\u001b[43m=\u001b[49m\u001b[43mrequest\u001b[49m\u001b[43m.\u001b[49m\u001b[43mheaders\u001b[49m\u001b[43m,\u001b[49m\n\u001b[32m    470\u001b[39m \u001b[43m    \u001b[49m\u001b[43mretries\u001b[49m\u001b[43m=\u001b[49m\u001b[43mRetry\u001b[49m\u001b[43m(\u001b[49m\u001b[38;5;28;43;01mFalse\u001b[39;49;00m\u001b[43m)\u001b[49m\u001b[43m,\u001b[49m\n\u001b[32m    471\u001b[39m \u001b[43m    \u001b[49m\u001b[43massert_same_host\u001b[49m\u001b[43m=\u001b[49m\u001b[38;5;28;43;01mFalse\u001b[39;49;00m\u001b[43m,\u001b[49m\n\u001b[32m    472\u001b[39m \u001b[43m    \u001b[49m\u001b[43mpreload_content\u001b[49m\u001b[43m=\u001b[49m\u001b[38;5;28;43;01mFalse\u001b[39;49;00m\u001b[43m,\u001b[49m\n\u001b[32m    473\u001b[39m \u001b[43m    \u001b[49m\u001b[43mdecode_content\u001b[49m\u001b[43m=\u001b[49m\u001b[38;5;28;43;01mFalse\u001b[39;49;00m\u001b[43m,\u001b[49m\n\u001b[32m    474\u001b[39m \u001b[43m    \u001b[49m\u001b[43mchunked\u001b[49m\u001b[43m=\u001b[49m\u001b[38;5;28;43mself\u001b[39;49m\u001b[43m.\u001b[49m\u001b[43m_chunked\u001b[49m\u001b[43m(\u001b[49m\u001b[43mrequest\u001b[49m\u001b[43m.\u001b[49m\u001b[43mheaders\u001b[49m\u001b[43m)\u001b[49m\u001b[43m,\u001b[49m\n\u001b[32m    475\u001b[39m \u001b[43m\u001b[49m\u001b[43m)\u001b[49m\n\u001b[32m    477\u001b[39m http_response = botocore.awsrequest.AWSResponse(\n\u001b[32m    478\u001b[39m     request.url,\n\u001b[32m    479\u001b[39m     urllib_response.status,\n\u001b[32m    480\u001b[39m     urllib_response.headers,\n\u001b[32m    481\u001b[39m     urllib_response,\n\u001b[32m    482\u001b[39m )\n\u001b[32m    484\u001b[39m \u001b[38;5;28;01mif\u001b[39;00m \u001b[38;5;129;01mnot\u001b[39;00m request.stream_output:\n\u001b[32m    485\u001b[39m     \u001b[38;5;66;03m# Cause the raw stream to be exhausted immediately. We do it\u001b[39;00m\n\u001b[32m    486\u001b[39m     \u001b[38;5;66;03m# this way instead of using preload_content because\u001b[39;00m\n\u001b[32m    487\u001b[39m     \u001b[38;5;66;03m# preload_content will never buffer chunked responses\u001b[39;00m\n",
      "\u001b[36mFile \u001b[39m\u001b[32mc:\\Users\\muje\\Projects\\WaterBench-MIKE21SW-SouthernNorthSea\\.venv\\Lib\\site-packages\\urllib3\\connectionpool.py:787\u001b[39m, in \u001b[36mHTTPConnectionPool.urlopen\u001b[39m\u001b[34m(self, method, url, body, headers, retries, redirect, assert_same_host, timeout, pool_timeout, release_conn, chunked, body_pos, preload_content, decode_content, **response_kw)\u001b[39m\n\u001b[32m    784\u001b[39m response_conn = conn \u001b[38;5;28;01mif\u001b[39;00m \u001b[38;5;129;01mnot\u001b[39;00m release_conn \u001b[38;5;28;01melse\u001b[39;00m \u001b[38;5;28;01mNone\u001b[39;00m\n\u001b[32m    786\u001b[39m \u001b[38;5;66;03m# Make the request on the HTTPConnection object\u001b[39;00m\n\u001b[32m--> \u001b[39m\u001b[32m787\u001b[39m response = \u001b[38;5;28;43mself\u001b[39;49m\u001b[43m.\u001b[49m\u001b[43m_make_request\u001b[49m\u001b[43m(\u001b[49m\n\u001b[32m    788\u001b[39m \u001b[43m    \u001b[49m\u001b[43mconn\u001b[49m\u001b[43m,\u001b[49m\n\u001b[32m    789\u001b[39m \u001b[43m    \u001b[49m\u001b[43mmethod\u001b[49m\u001b[43m,\u001b[49m\n\u001b[32m    790\u001b[39m \u001b[43m    \u001b[49m\u001b[43murl\u001b[49m\u001b[43m,\u001b[49m\n\u001b[32m    791\u001b[39m \u001b[43m    \u001b[49m\u001b[43mtimeout\u001b[49m\u001b[43m=\u001b[49m\u001b[43mtimeout_obj\u001b[49m\u001b[43m,\u001b[49m\n\u001b[32m    792\u001b[39m \u001b[43m    \u001b[49m\u001b[43mbody\u001b[49m\u001b[43m=\u001b[49m\u001b[43mbody\u001b[49m\u001b[43m,\u001b[49m\n\u001b[32m    793\u001b[39m \u001b[43m    \u001b[49m\u001b[43mheaders\u001b[49m\u001b[43m=\u001b[49m\u001b[43mheaders\u001b[49m\u001b[43m,\u001b[49m\n\u001b[32m    794\u001b[39m \u001b[43m    \u001b[49m\u001b[43mchunked\u001b[49m\u001b[43m=\u001b[49m\u001b[43mchunked\u001b[49m\u001b[43m,\u001b[49m\n\u001b[32m    795\u001b[39m \u001b[43m    \u001b[49m\u001b[43mretries\u001b[49m\u001b[43m=\u001b[49m\u001b[43mretries\u001b[49m\u001b[43m,\u001b[49m\n\u001b[32m    796\u001b[39m \u001b[43m    \u001b[49m\u001b[43mresponse_conn\u001b[49m\u001b[43m=\u001b[49m\u001b[43mresponse_conn\u001b[49m\u001b[43m,\u001b[49m\n\u001b[32m    797\u001b[39m \u001b[43m    \u001b[49m\u001b[43mpreload_content\u001b[49m\u001b[43m=\u001b[49m\u001b[43mpreload_content\u001b[49m\u001b[43m,\u001b[49m\n\u001b[32m    798\u001b[39m \u001b[43m    \u001b[49m\u001b[43mdecode_content\u001b[49m\u001b[43m=\u001b[49m\u001b[43mdecode_content\u001b[49m\u001b[43m,\u001b[49m\n\u001b[32m    799\u001b[39m \u001b[43m    \u001b[49m\u001b[43m*\u001b[49m\u001b[43m*\u001b[49m\u001b[43mresponse_kw\u001b[49m\u001b[43m,\u001b[49m\n\u001b[32m    800\u001b[39m \u001b[43m\u001b[49m\u001b[43m)\u001b[49m\n\u001b[32m    802\u001b[39m \u001b[38;5;66;03m# Everything went great!\u001b[39;00m\n\u001b[32m    803\u001b[39m clean_exit = \u001b[38;5;28;01mTrue\u001b[39;00m\n",
      "\u001b[36mFile \u001b[39m\u001b[32mc:\\Users\\muje\\Projects\\WaterBench-MIKE21SW-SouthernNorthSea\\.venv\\Lib\\site-packages\\urllib3\\connectionpool.py:464\u001b[39m, in \u001b[36mHTTPConnectionPool._make_request\u001b[39m\u001b[34m(self, conn, method, url, body, headers, retries, timeout, chunked, response_conn, preload_content, decode_content, enforce_content_length)\u001b[39m\n\u001b[32m    461\u001b[39m \u001b[38;5;28;01mtry\u001b[39;00m:\n\u001b[32m    462\u001b[39m     \u001b[38;5;66;03m# Trigger any extra validation we need to do.\u001b[39;00m\n\u001b[32m    463\u001b[39m     \u001b[38;5;28;01mtry\u001b[39;00m:\n\u001b[32m--> \u001b[39m\u001b[32m464\u001b[39m         \u001b[38;5;28;43mself\u001b[39;49m\u001b[43m.\u001b[49m\u001b[43m_validate_conn\u001b[49m\u001b[43m(\u001b[49m\u001b[43mconn\u001b[49m\u001b[43m)\u001b[49m\n\u001b[32m    465\u001b[39m     \u001b[38;5;28;01mexcept\u001b[39;00m (SocketTimeout, BaseSSLError) \u001b[38;5;28;01mas\u001b[39;00m e:\n\u001b[32m    466\u001b[39m         \u001b[38;5;28mself\u001b[39m._raise_timeout(err=e, url=url, timeout_value=conn.timeout)\n",
      "\u001b[36mFile \u001b[39m\u001b[32mc:\\Users\\muje\\Projects\\WaterBench-MIKE21SW-SouthernNorthSea\\.venv\\Lib\\site-packages\\urllib3\\connectionpool.py:1093\u001b[39m, in \u001b[36mHTTPSConnectionPool._validate_conn\u001b[39m\u001b[34m(self, conn)\u001b[39m\n\u001b[32m   1091\u001b[39m \u001b[38;5;66;03m# Force connect early to allow us to validate the connection.\u001b[39;00m\n\u001b[32m   1092\u001b[39m \u001b[38;5;28;01mif\u001b[39;00m conn.is_closed:\n\u001b[32m-> \u001b[39m\u001b[32m1093\u001b[39m     \u001b[43mconn\u001b[49m\u001b[43m.\u001b[49m\u001b[43mconnect\u001b[49m\u001b[43m(\u001b[49m\u001b[43m)\u001b[49m\n\u001b[32m   1095\u001b[39m \u001b[38;5;66;03m# TODO revise this, see https://github.com/urllib3/urllib3/issues/2791\u001b[39;00m\n\u001b[32m   1096\u001b[39m \u001b[38;5;28;01mif\u001b[39;00m \u001b[38;5;129;01mnot\u001b[39;00m conn.is_verified \u001b[38;5;129;01mand\u001b[39;00m \u001b[38;5;129;01mnot\u001b[39;00m conn.proxy_is_verified:\n",
      "\u001b[36mFile \u001b[39m\u001b[32mc:\\Users\\muje\\Projects\\WaterBench-MIKE21SW-SouthernNorthSea\\.venv\\Lib\\site-packages\\urllib3\\connection.py:790\u001b[39m, in \u001b[36mHTTPSConnection.connect\u001b[39m\u001b[34m(self)\u001b[39m\n\u001b[32m    787\u001b[39m     \u001b[38;5;66;03m# Remove trailing '.' from fqdn hostnames to allow certificate validation\u001b[39;00m\n\u001b[32m    788\u001b[39m     server_hostname_rm_dot = server_hostname.rstrip(\u001b[33m\"\u001b[39m\u001b[33m.\u001b[39m\u001b[33m\"\u001b[39m)\n\u001b[32m--> \u001b[39m\u001b[32m790\u001b[39m     sock_and_verified = \u001b[43m_ssl_wrap_socket_and_match_hostname\u001b[49m\u001b[43m(\u001b[49m\n\u001b[32m    791\u001b[39m \u001b[43m        \u001b[49m\u001b[43msock\u001b[49m\u001b[43m=\u001b[49m\u001b[43msock\u001b[49m\u001b[43m,\u001b[49m\n\u001b[32m    792\u001b[39m \u001b[43m        \u001b[49m\u001b[43mcert_reqs\u001b[49m\u001b[43m=\u001b[49m\u001b[38;5;28;43mself\u001b[39;49m\u001b[43m.\u001b[49m\u001b[43mcert_reqs\u001b[49m\u001b[43m,\u001b[49m\n\u001b[32m    793\u001b[39m \u001b[43m        \u001b[49m\u001b[43mssl_version\u001b[49m\u001b[43m=\u001b[49m\u001b[38;5;28;43mself\u001b[39;49m\u001b[43m.\u001b[49m\u001b[43mssl_version\u001b[49m\u001b[43m,\u001b[49m\n\u001b[32m    794\u001b[39m \u001b[43m        \u001b[49m\u001b[43mssl_minimum_version\u001b[49m\u001b[43m=\u001b[49m\u001b[38;5;28;43mself\u001b[39;49m\u001b[43m.\u001b[49m\u001b[43mssl_minimum_version\u001b[49m\u001b[43m,\u001b[49m\n\u001b[32m    795\u001b[39m \u001b[43m        \u001b[49m\u001b[43mssl_maximum_version\u001b[49m\u001b[43m=\u001b[49m\u001b[38;5;28;43mself\u001b[39;49m\u001b[43m.\u001b[49m\u001b[43mssl_maximum_version\u001b[49m\u001b[43m,\u001b[49m\n\u001b[32m    796\u001b[39m \u001b[43m        \u001b[49m\u001b[43mca_certs\u001b[49m\u001b[43m=\u001b[49m\u001b[38;5;28;43mself\u001b[39;49m\u001b[43m.\u001b[49m\u001b[43mca_certs\u001b[49m\u001b[43m,\u001b[49m\n\u001b[32m    797\u001b[39m \u001b[43m        \u001b[49m\u001b[43mca_cert_dir\u001b[49m\u001b[43m=\u001b[49m\u001b[38;5;28;43mself\u001b[39;49m\u001b[43m.\u001b[49m\u001b[43mca_cert_dir\u001b[49m\u001b[43m,\u001b[49m\n\u001b[32m    798\u001b[39m \u001b[43m        \u001b[49m\u001b[43mca_cert_data\u001b[49m\u001b[43m=\u001b[49m\u001b[38;5;28;43mself\u001b[39;49m\u001b[43m.\u001b[49m\u001b[43mca_cert_data\u001b[49m\u001b[43m,\u001b[49m\n\u001b[32m    799\u001b[39m \u001b[43m        \u001b[49m\u001b[43mcert_file\u001b[49m\u001b[43m=\u001b[49m\u001b[38;5;28;43mself\u001b[39;49m\u001b[43m.\u001b[49m\u001b[43mcert_file\u001b[49m\u001b[43m,\u001b[49m\n\u001b[32m    800\u001b[39m \u001b[43m        \u001b[49m\u001b[43mkey_file\u001b[49m\u001b[43m=\u001b[49m\u001b[38;5;28;43mself\u001b[39;49m\u001b[43m.\u001b[49m\u001b[43mkey_file\u001b[49m\u001b[43m,\u001b[49m\n\u001b[32m    801\u001b[39m \u001b[43m        \u001b[49m\u001b[43mkey_password\u001b[49m\u001b[43m=\u001b[49m\u001b[38;5;28;43mself\u001b[39;49m\u001b[43m.\u001b[49m\u001b[43mkey_password\u001b[49m\u001b[43m,\u001b[49m\n\u001b[32m    802\u001b[39m \u001b[43m        \u001b[49m\u001b[43mserver_hostname\u001b[49m\u001b[43m=\u001b[49m\u001b[43mserver_hostname_rm_dot\u001b[49m\u001b[43m,\u001b[49m\n\u001b[32m    803\u001b[39m \u001b[43m        \u001b[49m\u001b[43mssl_context\u001b[49m\u001b[43m=\u001b[49m\u001b[38;5;28;43mself\u001b[39;49m\u001b[43m.\u001b[49m\u001b[43mssl_context\u001b[49m\u001b[43m,\u001b[49m\n\u001b[32m    804\u001b[39m \u001b[43m        \u001b[49m\u001b[43mtls_in_tls\u001b[49m\u001b[43m=\u001b[49m\u001b[43mtls_in_tls\u001b[49m\u001b[43m,\u001b[49m\n\u001b[32m    805\u001b[39m \u001b[43m        \u001b[49m\u001b[43massert_hostname\u001b[49m\u001b[43m=\u001b[49m\u001b[38;5;28;43mself\u001b[39;49m\u001b[43m.\u001b[49m\u001b[43massert_hostname\u001b[49m\u001b[43m,\u001b[49m\n\u001b[32m    806\u001b[39m \u001b[43m        \u001b[49m\u001b[43massert_fingerprint\u001b[49m\u001b[43m=\u001b[49m\u001b[38;5;28;43mself\u001b[39;49m\u001b[43m.\u001b[49m\u001b[43massert_fingerprint\u001b[49m\u001b[43m,\u001b[49m\n\u001b[32m    807\u001b[39m \u001b[43m    \u001b[49m\u001b[43m)\u001b[49m\n\u001b[32m    808\u001b[39m     \u001b[38;5;28mself\u001b[39m.sock = sock_and_verified.socket\n\u001b[32m    810\u001b[39m \u001b[38;5;66;03m# If an error occurs during connection/handshake we may need to release\u001b[39;00m\n\u001b[32m    811\u001b[39m \u001b[38;5;66;03m# our lock so another connection can probe the origin.\u001b[39;00m\n",
      "\u001b[36mFile \u001b[39m\u001b[32mc:\\Users\\muje\\Projects\\WaterBench-MIKE21SW-SouthernNorthSea\\.venv\\Lib\\site-packages\\urllib3\\connection.py:969\u001b[39m, in \u001b[36m_ssl_wrap_socket_and_match_hostname\u001b[39m\u001b[34m(sock, cert_reqs, ssl_version, ssl_minimum_version, ssl_maximum_version, cert_file, key_file, key_password, ca_certs, ca_cert_dir, ca_cert_data, assert_hostname, assert_fingerprint, server_hostname, ssl_context, tls_in_tls)\u001b[39m\n\u001b[32m    966\u001b[39m     \u001b[38;5;28;01mif\u001b[39;00m is_ipaddress(normalized):\n\u001b[32m    967\u001b[39m         server_hostname = normalized\n\u001b[32m--> \u001b[39m\u001b[32m969\u001b[39m ssl_sock = \u001b[43mssl_wrap_socket\u001b[49m\u001b[43m(\u001b[49m\n\u001b[32m    970\u001b[39m \u001b[43m    \u001b[49m\u001b[43msock\u001b[49m\u001b[43m=\u001b[49m\u001b[43msock\u001b[49m\u001b[43m,\u001b[49m\n\u001b[32m    971\u001b[39m \u001b[43m    \u001b[49m\u001b[43mkeyfile\u001b[49m\u001b[43m=\u001b[49m\u001b[43mkey_file\u001b[49m\u001b[43m,\u001b[49m\n\u001b[32m    972\u001b[39m \u001b[43m    \u001b[49m\u001b[43mcertfile\u001b[49m\u001b[43m=\u001b[49m\u001b[43mcert_file\u001b[49m\u001b[43m,\u001b[49m\n\u001b[32m    973\u001b[39m \u001b[43m    \u001b[49m\u001b[43mkey_password\u001b[49m\u001b[43m=\u001b[49m\u001b[43mkey_password\u001b[49m\u001b[43m,\u001b[49m\n\u001b[32m    974\u001b[39m \u001b[43m    \u001b[49m\u001b[43mca_certs\u001b[49m\u001b[43m=\u001b[49m\u001b[43mca_certs\u001b[49m\u001b[43m,\u001b[49m\n\u001b[32m    975\u001b[39m \u001b[43m    \u001b[49m\u001b[43mca_cert_dir\u001b[49m\u001b[43m=\u001b[49m\u001b[43mca_cert_dir\u001b[49m\u001b[43m,\u001b[49m\n\u001b[32m    976\u001b[39m \u001b[43m    \u001b[49m\u001b[43mca_cert_data\u001b[49m\u001b[43m=\u001b[49m\u001b[43mca_cert_data\u001b[49m\u001b[43m,\u001b[49m\n\u001b[32m    977\u001b[39m \u001b[43m    \u001b[49m\u001b[43mserver_hostname\u001b[49m\u001b[43m=\u001b[49m\u001b[43mserver_hostname\u001b[49m\u001b[43m,\u001b[49m\n\u001b[32m    978\u001b[39m \u001b[43m    \u001b[49m\u001b[43mssl_context\u001b[49m\u001b[43m=\u001b[49m\u001b[43mcontext\u001b[49m\u001b[43m,\u001b[49m\n\u001b[32m    979\u001b[39m \u001b[43m    \u001b[49m\u001b[43mtls_in_tls\u001b[49m\u001b[43m=\u001b[49m\u001b[43mtls_in_tls\u001b[49m\u001b[43m,\u001b[49m\n\u001b[32m    980\u001b[39m \u001b[43m\u001b[49m\u001b[43m)\u001b[49m\n\u001b[32m    982\u001b[39m \u001b[38;5;28;01mtry\u001b[39;00m:\n\u001b[32m    983\u001b[39m     \u001b[38;5;28;01mif\u001b[39;00m assert_fingerprint:\n",
      "\u001b[36mFile \u001b[39m\u001b[32mc:\\Users\\muje\\Projects\\WaterBench-MIKE21SW-SouthernNorthSea\\.venv\\Lib\\site-packages\\urllib3\\util\\ssl_.py:480\u001b[39m, in \u001b[36mssl_wrap_socket\u001b[39m\u001b[34m(sock, keyfile, certfile, cert_reqs, ca_certs, server_hostname, ssl_version, ciphers, ssl_context, ca_cert_dir, key_password, ca_cert_data, tls_in_tls)\u001b[39m\n\u001b[32m    476\u001b[39m         context.load_cert_chain(certfile, keyfile, key_password)\n\u001b[32m    478\u001b[39m context.set_alpn_protocols(ALPN_PROTOCOLS)\n\u001b[32m--> \u001b[39m\u001b[32m480\u001b[39m ssl_sock = \u001b[43m_ssl_wrap_socket_impl\u001b[49m\u001b[43m(\u001b[49m\u001b[43msock\u001b[49m\u001b[43m,\u001b[49m\u001b[43m \u001b[49m\u001b[43mcontext\u001b[49m\u001b[43m,\u001b[49m\u001b[43m \u001b[49m\u001b[43mtls_in_tls\u001b[49m\u001b[43m,\u001b[49m\u001b[43m \u001b[49m\u001b[43mserver_hostname\u001b[49m\u001b[43m)\u001b[49m\n\u001b[32m    481\u001b[39m \u001b[38;5;28;01mreturn\u001b[39;00m ssl_sock\n",
      "\u001b[36mFile \u001b[39m\u001b[32mc:\\Users\\muje\\Projects\\WaterBench-MIKE21SW-SouthernNorthSea\\.venv\\Lib\\site-packages\\urllib3\\util\\ssl_.py:524\u001b[39m, in \u001b[36m_ssl_wrap_socket_impl\u001b[39m\u001b[34m(sock, ssl_context, tls_in_tls, server_hostname)\u001b[39m\n\u001b[32m    521\u001b[39m     SSLTransport._validate_ssl_context_for_tls_in_tls(ssl_context)\n\u001b[32m    522\u001b[39m     \u001b[38;5;28;01mreturn\u001b[39;00m SSLTransport(sock, ssl_context, server_hostname)\n\u001b[32m--> \u001b[39m\u001b[32m524\u001b[39m \u001b[38;5;28;01mreturn\u001b[39;00m \u001b[43mssl_context\u001b[49m\u001b[43m.\u001b[49m\u001b[43mwrap_socket\u001b[49m\u001b[43m(\u001b[49m\u001b[43msock\u001b[49m\u001b[43m,\u001b[49m\u001b[43m \u001b[49m\u001b[43mserver_hostname\u001b[49m\u001b[43m=\u001b[49m\u001b[43mserver_hostname\u001b[49m\u001b[43m)\u001b[49m\n",
      "\u001b[36mFile \u001b[39m\u001b[32m~\\AppData\\Roaming\\uv\\python\\cpython-3.12.10-windows-x86_64-none\\Lib\\ssl.py:455\u001b[39m, in \u001b[36mSSLContext.wrap_socket\u001b[39m\u001b[34m(self, sock, server_side, do_handshake_on_connect, suppress_ragged_eofs, server_hostname, session)\u001b[39m\n\u001b[32m    449\u001b[39m \u001b[38;5;28;01mdef\u001b[39;00m\u001b[38;5;250m \u001b[39m\u001b[34mwrap_socket\u001b[39m(\u001b[38;5;28mself\u001b[39m, sock, server_side=\u001b[38;5;28;01mFalse\u001b[39;00m,\n\u001b[32m    450\u001b[39m                 do_handshake_on_connect=\u001b[38;5;28;01mTrue\u001b[39;00m,\n\u001b[32m    451\u001b[39m                 suppress_ragged_eofs=\u001b[38;5;28;01mTrue\u001b[39;00m,\n\u001b[32m    452\u001b[39m                 server_hostname=\u001b[38;5;28;01mNone\u001b[39;00m, session=\u001b[38;5;28;01mNone\u001b[39;00m):\n\u001b[32m    453\u001b[39m     \u001b[38;5;66;03m# SSLSocket class handles server_hostname encoding before it calls\u001b[39;00m\n\u001b[32m    454\u001b[39m     \u001b[38;5;66;03m# ctx._wrap_socket()\u001b[39;00m\n\u001b[32m--> \u001b[39m\u001b[32m455\u001b[39m     \u001b[38;5;28;01mreturn\u001b[39;00m \u001b[38;5;28;43mself\u001b[39;49m\u001b[43m.\u001b[49m\u001b[43msslsocket_class\u001b[49m\u001b[43m.\u001b[49m\u001b[43m_create\u001b[49m\u001b[43m(\u001b[49m\n\u001b[32m    456\u001b[39m \u001b[43m        \u001b[49m\u001b[43msock\u001b[49m\u001b[43m=\u001b[49m\u001b[43msock\u001b[49m\u001b[43m,\u001b[49m\n\u001b[32m    457\u001b[39m \u001b[43m        \u001b[49m\u001b[43mserver_side\u001b[49m\u001b[43m=\u001b[49m\u001b[43mserver_side\u001b[49m\u001b[43m,\u001b[49m\n\u001b[32m    458\u001b[39m \u001b[43m        \u001b[49m\u001b[43mdo_handshake_on_connect\u001b[49m\u001b[43m=\u001b[49m\u001b[43mdo_handshake_on_connect\u001b[49m\u001b[43m,\u001b[49m\n\u001b[32m    459\u001b[39m \u001b[43m        \u001b[49m\u001b[43msuppress_ragged_eofs\u001b[49m\u001b[43m=\u001b[49m\u001b[43msuppress_ragged_eofs\u001b[49m\u001b[43m,\u001b[49m\n\u001b[32m    460\u001b[39m \u001b[43m        \u001b[49m\u001b[43mserver_hostname\u001b[49m\u001b[43m=\u001b[49m\u001b[43mserver_hostname\u001b[49m\u001b[43m,\u001b[49m\n\u001b[32m    461\u001b[39m \u001b[43m        \u001b[49m\u001b[43mcontext\u001b[49m\u001b[43m=\u001b[49m\u001b[38;5;28;43mself\u001b[39;49m\u001b[43m,\u001b[49m\n\u001b[32m    462\u001b[39m \u001b[43m        \u001b[49m\u001b[43msession\u001b[49m\u001b[43m=\u001b[49m\u001b[43msession\u001b[49m\n\u001b[32m    463\u001b[39m \u001b[43m    \u001b[49m\u001b[43m)\u001b[49m\n",
      "\u001b[36mFile \u001b[39m\u001b[32m~\\AppData\\Roaming\\uv\\python\\cpython-3.12.10-windows-x86_64-none\\Lib\\ssl.py:1041\u001b[39m, in \u001b[36mSSLSocket._create\u001b[39m\u001b[34m(cls, sock, server_side, do_handshake_on_connect, suppress_ragged_eofs, server_hostname, context, session)\u001b[39m\n\u001b[32m   1038\u001b[39m             \u001b[38;5;28;01mif\u001b[39;00m timeout == \u001b[32m0.0\u001b[39m:\n\u001b[32m   1039\u001b[39m                 \u001b[38;5;66;03m# non-blocking\u001b[39;00m\n\u001b[32m   1040\u001b[39m                 \u001b[38;5;28;01mraise\u001b[39;00m \u001b[38;5;167;01mValueError\u001b[39;00m(\u001b[33m\"\u001b[39m\u001b[33mdo_handshake_on_connect should not be specified for non-blocking sockets\u001b[39m\u001b[33m\"\u001b[39m)\n\u001b[32m-> \u001b[39m\u001b[32m1041\u001b[39m             \u001b[38;5;28;43mself\u001b[39;49m\u001b[43m.\u001b[49m\u001b[43mdo_handshake\u001b[49m\u001b[43m(\u001b[49m\u001b[43m)\u001b[49m\n\u001b[32m   1042\u001b[39m \u001b[38;5;28;01mexcept\u001b[39;00m:\n\u001b[32m   1043\u001b[39m     \u001b[38;5;28;01mtry\u001b[39;00m:\n",
      "\u001b[36mFile \u001b[39m\u001b[32m~\\AppData\\Roaming\\uv\\python\\cpython-3.12.10-windows-x86_64-none\\Lib\\ssl.py:1319\u001b[39m, in \u001b[36mSSLSocket.do_handshake\u001b[39m\u001b[34m(self, block)\u001b[39m\n\u001b[32m   1317\u001b[39m     \u001b[38;5;28;01mif\u001b[39;00m timeout == \u001b[32m0.0\u001b[39m \u001b[38;5;129;01mand\u001b[39;00m block:\n\u001b[32m   1318\u001b[39m         \u001b[38;5;28mself\u001b[39m.settimeout(\u001b[38;5;28;01mNone\u001b[39;00m)\n\u001b[32m-> \u001b[39m\u001b[32m1319\u001b[39m     \u001b[38;5;28;43mself\u001b[39;49m\u001b[43m.\u001b[49m\u001b[43m_sslobj\u001b[49m\u001b[43m.\u001b[49m\u001b[43mdo_handshake\u001b[49m\u001b[43m(\u001b[49m\u001b[43m)\u001b[49m\n\u001b[32m   1320\u001b[39m \u001b[38;5;28;01mfinally\u001b[39;00m:\n\u001b[32m   1321\u001b[39m     \u001b[38;5;28mself\u001b[39m.settimeout(timeout)\n",
      "\u001b[31mKeyboardInterrupt\u001b[39m: "
     ]
    }
   ],
   "source": [
    "download_copernicus_data(filename=\"stations.txt\", csv_path='../observations/stations.csv', output_directory='./raw-data', username=username, password=password, dataset_id=dataset_id)"
   ]
  },
  {
   "cell_type": "markdown",
   "id": "835afbcb",
   "metadata": {},
   "source": [
    "### Convert nc data file to csv files"
   ]
  },
  {
   "cell_type": "code",
   "execution_count": null,
   "id": "fbb24747",
   "metadata": {},
   "outputs": [
    {
     "name": "stdout",
     "output_type": "stream",
     "text": [
      "Converting .nc files to .csv files...\n",
      "['6200288', '6200044', '6201059', '6200144', '6201047']\n",
      "['INSITU_GLO_PHYBGCWAV_DISCRETE_MYNRT_013_030/cmems_obs-ins_glo_phybgcwav_mynrt_na_irr_202311/monthly/MO/202201/NO_TS_MO_6200144_202201.nc', 'INSITU_GLO_PHYBGCWAV_DISCRETE_MYNRT_013_030/cmems_obs-ins_glo_phybgcwav_mynrt_na_irr_202311/monthly/MO/202202/NO_TS_MO_6200144_202202.nc', 'INSITU_GLO_PHYBGCWAV_DISCRETE_MYNRT_013_030/cmems_obs-ins_glo_phybgcwav_mynrt_na_irr_202311/monthly/MO/202203/NO_TS_MO_6200144_202203.nc', 'INSITU_GLO_PHYBGCWAV_DISCRETE_MYNRT_013_030/cmems_obs-ins_glo_phybgcwav_mynrt_na_irr_202311/monthly/MO/202204/NO_TS_MO_6200144_202204.nc', 'INSITU_GLO_PHYBGCWAV_DISCRETE_MYNRT_013_030/cmems_obs-ins_glo_phybgcwav_mynrt_na_irr_202311/monthly/MO/202205/NO_TS_MO_6200144_202205.nc', 'INSITU_GLO_PHYBGCWAV_DISCRETE_MYNRT_013_030/cmems_obs-ins_glo_phybgcwav_mynrt_na_irr_202311/monthly/MO/202206/NO_TS_MO_6200144_202206.nc', 'INSITU_GLO_PHYBGCWAV_DISCRETE_MYNRT_013_030/cmems_obs-ins_glo_phybgcwav_mynrt_na_irr_202311/monthly/MO/202207/NO_TS_MO_6200144_202207.nc', 'INSITU_GLO_PHYBGCWAV_DISCRETE_MYNRT_013_030/cmems_obs-ins_glo_phybgcwav_mynrt_na_irr_202311/monthly/MO/202208/NO_TS_MO_6200144_202208.nc', 'INSITU_GLO_PHYBGCWAV_DISCRETE_MYNRT_013_030/cmems_obs-ins_glo_phybgcwav_mynrt_na_irr_202311/monthly/MO/202209/NO_TS_MO_6200144_202209.nc', 'INSITU_GLO_PHYBGCWAV_DISCRETE_MYNRT_013_030/cmems_obs-ins_glo_phybgcwav_mynrt_na_irr_202311/monthly/MO/202210/NO_TS_MO_6200144_202210.nc', 'INSITU_GLO_PHYBGCWAV_DISCRETE_MYNRT_013_030/cmems_obs-ins_glo_phybgcwav_mynrt_na_irr_202311/monthly/MO/202211/NO_TS_MO_6200144_202211.nc', 'INSITU_GLO_PHYBGCWAV_DISCRETE_MYNRT_013_030/cmems_obs-ins_glo_phybgcwav_mynrt_na_irr_202311/monthly/MO/202212/NO_TS_MO_6200144_202212.nc', 'INSITU_GLO_PHYBGCWAV_DISCRETE_MYNRT_013_030/cmems_obs-ins_glo_phybgcwav_mynrt_na_irr_202311/monthly/MO/202201/NO_TS_MO_6201047_202201.nc', 'INSITU_GLO_PHYBGCWAV_DISCRETE_MYNRT_013_030/cmems_obs-ins_glo_phybgcwav_mynrt_na_irr_202311/monthly/MO/202202/NO_TS_MO_6201047_202202.nc', 'INSITU_GLO_PHYBGCWAV_DISCRETE_MYNRT_013_030/cmems_obs-ins_glo_phybgcwav_mynrt_na_irr_202311/monthly/MO/202203/NO_TS_MO_6201047_202203.nc', 'INSITU_GLO_PHYBGCWAV_DISCRETE_MYNRT_013_030/cmems_obs-ins_glo_phybgcwav_mynrt_na_irr_202311/monthly/MO/202204/NO_TS_MO_6201047_202204.nc', 'INSITU_GLO_PHYBGCWAV_DISCRETE_MYNRT_013_030/cmems_obs-ins_glo_phybgcwav_mynrt_na_irr_202311/monthly/MO/202205/NO_TS_MO_6201047_202205.nc', 'INSITU_GLO_PHYBGCWAV_DISCRETE_MYNRT_013_030/cmems_obs-ins_glo_phybgcwav_mynrt_na_irr_202311/monthly/MO/202206/NO_TS_MO_6201047_202206.nc', 'INSITU_GLO_PHYBGCWAV_DISCRETE_MYNRT_013_030/cmems_obs-ins_glo_phybgcwav_mynrt_na_irr_202311/monthly/MO/202207/NO_TS_MO_6201047_202207.nc', 'INSITU_GLO_PHYBGCWAV_DISCRETE_MYNRT_013_030/cmems_obs-ins_glo_phybgcwav_mynrt_na_irr_202311/monthly/MO/202208/NO_TS_MO_6201047_202208.nc', 'INSITU_GLO_PHYBGCWAV_DISCRETE_MYNRT_013_030/cmems_obs-ins_glo_phybgcwav_mynrt_na_irr_202311/monthly/MO/202209/NO_TS_MO_6201047_202209.nc', 'INSITU_GLO_PHYBGCWAV_DISCRETE_MYNRT_013_030/cmems_obs-ins_glo_phybgcwav_mynrt_na_irr_202311/monthly/MO/202210/NO_TS_MO_6201047_202210.nc', 'INSITU_GLO_PHYBGCWAV_DISCRETE_MYNRT_013_030/cmems_obs-ins_glo_phybgcwav_mynrt_na_irr_202311/monthly/MO/202211/NO_TS_MO_6201047_202211.nc', 'INSITU_GLO_PHYBGCWAV_DISCRETE_MYNRT_013_030/cmems_obs-ins_glo_phybgcwav_mynrt_na_irr_202311/monthly/MO/202212/NO_TS_MO_6201047_202212.nc', 'INSITU_GLO_PHYBGCWAV_DISCRETE_MYNRT_013_030/cmems_obs-ins_glo_phybgcwav_mynrt_na_irr_202311/monthly/MO/202201/NO_TS_MO_6201059_202201.nc', 'INSITU_GLO_PHYBGCWAV_DISCRETE_MYNRT_013_030/cmems_obs-ins_glo_phybgcwav_mynrt_na_irr_202311/monthly/MO/202202/NO_TS_MO_6201059_202202.nc', 'INSITU_GLO_PHYBGCWAV_DISCRETE_MYNRT_013_030/cmems_obs-ins_glo_phybgcwav_mynrt_na_irr_202311/monthly/MO/202203/NO_TS_MO_6201059_202203.nc', 'INSITU_GLO_PHYBGCWAV_DISCRETE_MYNRT_013_030/cmems_obs-ins_glo_phybgcwav_mynrt_na_irr_202311/monthly/MO/202204/NO_TS_MO_6201059_202204.nc', 'INSITU_GLO_PHYBGCWAV_DISCRETE_MYNRT_013_030/cmems_obs-ins_glo_phybgcwav_mynrt_na_irr_202311/monthly/MO/202205/NO_TS_MO_6201059_202205.nc', 'INSITU_GLO_PHYBGCWAV_DISCRETE_MYNRT_013_030/cmems_obs-ins_glo_phybgcwav_mynrt_na_irr_202311/monthly/MO/202206/NO_TS_MO_6201059_202206.nc', 'INSITU_GLO_PHYBGCWAV_DISCRETE_MYNRT_013_030/cmems_obs-ins_glo_phybgcwav_mynrt_na_irr_202311/monthly/MO/202207/NO_TS_MO_6201059_202207.nc', 'INSITU_GLO_PHYBGCWAV_DISCRETE_MYNRT_013_030/cmems_obs-ins_glo_phybgcwav_mynrt_na_irr_202311/monthly/MO/202208/NO_TS_MO_6201059_202208.nc', 'INSITU_GLO_PHYBGCWAV_DISCRETE_MYNRT_013_030/cmems_obs-ins_glo_phybgcwav_mynrt_na_irr_202311/monthly/MO/202209/NO_TS_MO_6201059_202209.nc', 'INSITU_GLO_PHYBGCWAV_DISCRETE_MYNRT_013_030/cmems_obs-ins_glo_phybgcwav_mynrt_na_irr_202311/monthly/MO/202210/NO_TS_MO_6201059_202210.nc', 'INSITU_GLO_PHYBGCWAV_DISCRETE_MYNRT_013_030/cmems_obs-ins_glo_phybgcwav_mynrt_na_irr_202311/monthly/MO/202211/NO_TS_MO_6201059_202211.nc', 'INSITU_GLO_PHYBGCWAV_DISCRETE_MYNRT_013_030/cmems_obs-ins_glo_phybgcwav_mynrt_na_irr_202311/monthly/MO/202212/NO_TS_MO_6201059_202212.nc']\n",
      "No data found for station 6200288\n",
      "No data found for station 6200044\n",
      "Saved data for station 6201059 to ../observations\\6201059.csv\n",
      "Saved data for station 6200144 to ../observations\\6200144.csv\n",
      "Saved data for station 6201047 to ../observations\\6201047.csv\n"
     ]
    }
   ],
   "source": [
    "convert_nc_to_csv(station_file='stations.txt',filename=\"output.txt\", obs_fldr = 'raw-data', csv_fldr='../observations')"
   ]
  }
 ],
 "metadata": {
  "kernelspec": {
   "display_name": "WaterBench-MIKE21SW-SouthernNorthSea",
   "language": "python",
   "name": "python3"
  },
  "language_info": {
   "codemirror_mode": {
    "name": "ipython",
    "version": 3
   },
   "file_extension": ".py",
   "mimetype": "text/x-python",
   "name": "python",
   "nbconvert_exporter": "python",
   "pygments_lexer": "ipython3",
   "version": "3.12.10"
  }
 },
 "nbformat": 4,
 "nbformat_minor": 5
}
