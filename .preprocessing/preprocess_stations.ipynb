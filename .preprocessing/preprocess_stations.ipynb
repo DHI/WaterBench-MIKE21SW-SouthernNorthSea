{
 "cells": [
  {
   "cell_type": "markdown",
   "id": "c6329c38",
   "metadata": {},
   "source": [
    "# Preprocess stations\n",
    "In this noteook we load the nc files for the stations in stations.txt and convert to csv files."
   ]
  },
  {
   "cell_type": "markdown",
   "id": "5252410d",
   "metadata": {},
   "source": [
    "### Load packages"
   ]
  },
  {
   "cell_type": "code",
   "execution_count": 1,
   "id": "206778aa",
   "metadata": {},
   "outputs": [],
   "source": [
    "import pandas as pd\n",
    "import xarray as xr\n",
    "import os"
   ]
  },
  {
   "cell_type": "markdown",
   "id": "a4985232",
   "metadata": {},
   "source": [
    "### Open and read stations in txt file"
   ]
  },
  {
   "cell_type": "code",
   "execution_count": 2,
   "id": "b25bae21",
   "metadata": {},
   "outputs": [
    {
     "name": "stdout",
     "output_type": "stream",
     "text": [
      "Subset of station files:\n"
     ]
    },
    {
     "data": {
      "text/plain": [
       "['6200144', '6200145', '6201045', '6201047', '6201050']"
      ]
     },
     "execution_count": 2,
     "metadata": {},
     "output_type": "execute_result"
    }
   ],
   "source": [
    "with open(\"stations.txt\", \"r\") as f:\n",
    "    station_files = [line.strip() for line in f if line.strip()]\n",
    "\n",
    "# Print a subset of the station files\n",
    "print(\"Subset of station files:\")\n",
    "station_files[0:5]"
   ]
  },
  {
   "cell_type": "markdown",
   "id": "429638ee",
   "metadata": {},
   "source": [
    "### Open and read file names in txt file"
   ]
  },
  {
   "cell_type": "code",
   "execution_count": 3,
   "id": "1b746b29",
   "metadata": {},
   "outputs": [
    {
     "name": "stdout",
     "output_type": "stream",
     "text": [
      "Subset of file names:\n"
     ]
    },
    {
     "data": {
      "text/plain": [
       "['INSITU_GLO_PHYBGCWAV_DISCRETE_MYNRT_013_030/cmems_obs-ins_glo_phybgcwav_mynrt_na_irr_202311/monthly/MO/202201/NO_TS_MO_6200144_202201.nc',\n",
       " 'INSITU_GLO_PHYBGCWAV_DISCRETE_MYNRT_013_030/cmems_obs-ins_glo_phybgcwav_mynrt_na_irr_202311/monthly/MO/202202/NO_TS_MO_6200144_202202.nc',\n",
       " 'INSITU_GLO_PHYBGCWAV_DISCRETE_MYNRT_013_030/cmems_obs-ins_glo_phybgcwav_mynrt_na_irr_202311/monthly/MO/202203/NO_TS_MO_6200144_202203.nc']"
      ]
     },
     "execution_count": 3,
     "metadata": {},
     "output_type": "execute_result"
    }
   ],
   "source": [
    "# Get full file names from output.txt\n",
    "with open(\"output.txt\", \"r\") as f:\n",
    "    file_names = [line.strip() for line in f if line.strip()]\n",
    "\n",
    "# Print a subset of the file names\n",
    "print(\"Subset of file names:\")\n",
    "file_names[0:3]"
   ]
  },
  {
   "cell_type": "markdown",
   "id": "33bd7c8e",
   "metadata": {},
   "source": [
    "### Convert nc files to csv files"
   ]
  },
  {
   "cell_type": "code",
   "execution_count": 8,
   "id": "bff143a1",
   "metadata": {},
   "outputs": [
    {
     "name": "stdout",
     "output_type": "stream",
     "text": [
      "Saved 6200144.csv\n",
      "Saved 6200145.csv\n",
      "Saved 6201045.csv\n",
      "Saved 6201047.csv\n",
      "Saved 6201050.csv\n",
      "Saved 6201059.csv\n",
      "Saved A121.csv\n",
      "Saved AkkaertSouthwestBuoy.csv\n",
      "Saved Europlatform2.csv\n",
      "Saved Europlatform3.csv\n",
      "Saved F3platform.csv\n",
      "Saved IJmuidenMunitiestort.csv\n",
      "Saved J61.csv\n",
      "Saved K13a.csv\n",
      "Saved K141.csv\n",
      "Saved KeetenBoei.csv\n",
      "Saved KwintebankBuoy.csv\n",
      "Saved L91.csv\n",
      "Saved LichteilandGoeree1.csv\n",
      "Saved MaeslantkeringZeezijdeNoordMeetpaal.csv\n",
      "Saved MaeslantkeringZeezijdeZuidMeetpaal.csv\n",
      "Saved NieuwpoortBuoy.csv\n",
      "Saved Nymindegab.csv\n",
      "Saved Oosterschelde11.csv\n",
      "Saved OstendEasternPalisadeBuoy.csv\n",
      "Saved OverloopVanValkenisse.csv\n",
      "Saved PasVanTerneuzenBoei.csv\n",
      "Saved Q1.csv\n",
      "Saved WaddenEierlandseGat.csv\n",
      "Saved WesthinderBuoy.csv\n",
      "Saved ZeebruggeZandopvangkadeBuoy.csv\n",
      "Saved ZwinBuoy.csv\n"
     ]
    }
   ],
   "source": [
    "# Define observation folder\n",
    "obs_fldr = 'raw-data'\n",
    "\n",
    "for station in station_files:\n",
    "    stations_data = []\n",
    "\n",
    "    for name in file_names:\n",
    "        if station in name:\n",
    "            # Load the NetCDF file if the path exists\n",
    "            basename = os.path.basename(name)\n",
    "            file_path = os.path.join(obs_fldr, basename)\n",
    "\n",
    "            if os.path.exists(file_path):\n",
    "                ds = xr.open_dataset(file_path)\n",
    "            else:\n",
    "                continue\n",
    "\n",
    "            # Convert to dataframe\n",
    "            df = ds.to_dataframe().reset_index()\n",
    "\n",
    "            # Extract the wanted variables\n",
    "            cols = []\n",
    "            df['datetime'] = df['TIME']\n",
    "            cols.append('datetime')\n",
    "\n",
    "            if 'VHM0' in df.columns:\n",
    "                df['significant_wave_height'] = df['VHM0']\n",
    "                cols.append('significant_wave_height')\n",
    "\n",
    "            if 'VTPK' in df.columns:\n",
    "                df['peak_wave_period'] = df['VTPK']\n",
    "                cols.append('peak_wave_period')\n",
    "\n",
    "            if 'VMDR' in df.columns:\n",
    "                df['mean_wave_direction'] = df['VMDR']\n",
    "                cols.append('mean_wave_direction')\n",
    "                \n",
    "            df = df[cols].copy()\n",
    "            df = df.dropna()\n",
    "\n",
    "            stations_data.append(df)\n",
    "    \n",
    "    # Convert to csv\n",
    "    full_df = pd.concat(stations_data)\n",
    "\n",
    "    # Remove trailing underscore if it exists\n",
    "    station_clean = station.rstrip(\"_\")\n",
    "    csv_path = f\"../observations/measurements/{station_clean}.csv\"\n",
    "\n",
    "    if not os.path.exists(csv_path):\n",
    "        full_df.to_csv(csv_path, index=False)\n",
    "        print(f\"Saved {station_clean}.csv\")\n",
    "    else:\n",
    "        print(f\"Skipped saving {station_clean}.csv (file already exists)\")"
   ]
  }
 ],
 "metadata": {
  "kernelspec": {
   "display_name": "WaterBench-MIKE21SW-SouthernNorthSea",
   "language": "python",
   "name": "python3"
  },
  "language_info": {
   "codemirror_mode": {
    "name": "ipython",
    "version": 3
   },
   "file_extension": ".py",
   "mimetype": "text/x-python",
   "name": "python",
   "nbconvert_exporter": "python",
   "pygments_lexer": "ipython3",
   "version": "3.12.10"
  }
 },
 "nbformat": 4,
 "nbformat_minor": 5
}
