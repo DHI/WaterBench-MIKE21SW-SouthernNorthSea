{
 "cells": [
  {
   "cell_type": "markdown",
   "id": "432aa6a9",
   "metadata": {},
   "source": [
    "# Zip input and output folder for the model"
   ]
  },
  {
   "cell_type": "code",
   "execution_count": 1,
   "id": "cdc31491",
   "metadata": {},
   "outputs": [],
   "source": [
    "import zipfile"
   ]
  },
  {
   "cell_type": "markdown",
   "id": "005e11ce",
   "metadata": {},
   "source": [
    "### Zip functions"
   ]
  },
  {
   "cell_type": "code",
   "execution_count": null,
   "id": "5b362a90",
   "metadata": {},
   "outputs": [],
   "source": [
    "# Create a zip file for the input and output of the MIKE21SW-SouthernNorthSea model\n",
    "\n",
    "def zip_input(fn, path_input):\n",
    "    with zipfile.ZipFile(fn, \"w\") as z:\n",
    "        z.write(path_input + \"/AreaHD.dfsu\", arcname=\"AreaHD.dfsu\") # Remove if Zenodo data becomes too big\n",
    "        z.write(path_input + \"/Wind.dfs2\", arcname=\"Wind.dfs2\")\n",
    "        z.write(\"README_input.md\", arcname=\"README.md\")\n",
    "    print(f\"Zip file created: {fn}\")\n",
    "\n",
    "def zip_output(fn, path_output):\n",
    "    with zipfile.ZipFile(fn, \"w\") as z:\n",
    "        z.write(path_output + \"/Area.dfsu\",arcname=\"Area.dfsu\")\n",
    "        z.write(path_output + \"/Points.dfs0\",arcname=\"Points.dfs0\")\n",
    "        z.write(path_output + \"/Points_spectral.dfsu\",arcname=\"Points_spectral.dfsu\")\n",
    "        z.write(\"README_output.md\",arcname=\"README.md\")\n",
    "    print(f\"Zip file created: {fn}\")"
   ]
  },
  {
   "cell_type": "markdown",
   "id": "730d0ee0",
   "metadata": {},
   "source": [
    "### Create input zip folder"
   ]
  },
  {
   "cell_type": "code",
   "execution_count": 3,
   "id": "7d5dc6f6",
   "metadata": {},
   "outputs": [
    {
     "name": "stdout",
     "output_type": "stream",
     "text": [
      "Zip file created: MIKE21SW-SouthernNorthSea-input.zip\n"
     ]
    }
   ],
   "source": [
    "# Create input zip folder\n",
    "# The input zip folder is for large files (AreaHD + wind)\n",
    "zip_input(fn=\"MIKE21SW-SouthernNorthSea-input.zip\", path_input = \"../input\")"
   ]
  },
  {
   "cell_type": "markdown",
   "id": "19753225",
   "metadata": {},
   "source": [
    "### Create output zip folder"
   ]
  },
  {
   "cell_type": "code",
   "execution_count": 5,
   "id": "872437eb",
   "metadata": {},
   "outputs": [
    {
     "name": "stdout",
     "output_type": "stream",
     "text": [
      "Zip file created: MIKE21SW-SouthernNorthSea-output.zip\n"
     ]
    }
   ],
   "source": [
    "# Create output zip folder\n",
    "zip_output(fn=\"MIKE21SW-SouthernNorthSea-output.zip\", path_output=\"../output\")"
   ]
  }
 ],
 "metadata": {
  "kernelspec": {
   "display_name": "WaterBench-MIKE21SW-SouthernNorthSea",
   "language": "python",
   "name": "python3"
  },
  "language_info": {
   "codemirror_mode": {
    "name": "ipython",
    "version": 3
   },
   "file_extension": ".py",
   "mimetype": "text/x-python",
   "name": "python",
   "nbconvert_exporter": "python",
   "pygments_lexer": "ipython3",
   "version": "3.12.10"
  }
 },
 "nbformat": 4,
 "nbformat_minor": 5
}
