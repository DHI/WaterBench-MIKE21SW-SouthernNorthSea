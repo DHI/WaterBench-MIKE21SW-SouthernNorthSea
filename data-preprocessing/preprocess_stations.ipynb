{
 "cells": [
  {
   "cell_type": "markdown",
   "id": "c6329c38",
   "metadata": {},
   "source": [
    "# Preprocess stations\n",
    "In this noteook we load the nc files for the stations in stations.txt and convert to csv files."
   ]
  },
  {
   "cell_type": "markdown",
   "id": "5252410d",
   "metadata": {},
   "source": [
    "### Load packages"
   ]
  },
  {
   "cell_type": "code",
   "execution_count": 1,
   "id": "206778aa",
   "metadata": {},
   "outputs": [],
   "source": [
    "import pandas as pd\n",
    "import xarray as xr\n",
    "import numpy as np\n",
    "import time\n",
    "import netCDF4 as nc\n",
    "import os"
   ]
  },
  {
   "cell_type": "markdown",
   "id": "a4985232",
   "metadata": {},
   "source": [
    "### Open and read stations in txt file"
   ]
  },
  {
   "cell_type": "code",
   "execution_count": 2,
   "id": "b25bae21",
   "metadata": {},
   "outputs": [
    {
     "data": {
      "text/plain": [
       "['AkkaertSouthwestBuoy',\n",
       " 'WaddenEierlandseGat',\n",
       " 'DeutscheBuchtBuoy',\n",
       " 'Fanoebugt',\n",
       " 'KeetenBoei',\n",
       " 'MaeslantkeringZeezijdeNoordMeetpaal',\n",
       " 'NorderneyBuoy',\n",
       " 'Nymindegab',\n",
       " 'OverloopVanValkenisse',\n",
       " 'StortemelkOost',\n",
       " 'RyeBayDWR',\n",
       " 'SandownPierTG',\n",
       " 'SwanagePierTG']"
      ]
     },
     "execution_count": 2,
     "metadata": {},
     "output_type": "execute_result"
    }
   ],
   "source": [
    "with open(\"stations.txt\", \"r\") as f:\n",
    "    station_files = [line.strip() for line in f if line.strip()]\n",
    "\n",
    "station_files"
   ]
  },
  {
   "cell_type": "code",
   "execution_count": 5,
   "id": "1b746b29",
   "metadata": {},
   "outputs": [],
   "source": [
    "# Get full file names from output.txt\n",
    "with open(\"output.txt\", \"r\") as f:\n",
    "    file_names = [line.strip() for line in f if line.strip()]"
   ]
  },
  {
   "cell_type": "markdown",
   "id": "33bd7c8e",
   "metadata": {},
   "source": [
    "### Convert nc files to csv files"
   ]
  },
  {
   "cell_type": "code",
   "execution_count": null,
   "id": "be179d87",
   "metadata": {},
   "outputs": [
    {
     "name": "stdout",
     "output_type": "stream",
     "text": [
      "Saved AkkaertSouthwestBuoy.csv\n",
      "Saved WaddenEierlandseGat.csv\n",
      "Saved DeutscheBuchtBuoy.csv\n",
      "Saved Fanoebugt.csv\n",
      "Saved KeetenBoei.csv\n",
      "Saved MaeslantkeringZeezijdeNoordMeetpaal.csv\n",
      "Saved NorderneyBuoy.csv\n",
      "Saved Nymindegab.csv\n",
      "Saved OverloopVanValkenisse.csv\n",
      "Saved StortemelkOost.csv\n",
      "Saved RyeBayDWR.csv\n",
      "Saved SandownPierTG.csv\n",
      "Saved SwanagePierTG.csv\n"
     ]
    }
   ],
   "source": [
    "# Define observation folder\n",
    "obs_fldr = 'raw-data/observations'\n",
    "\n",
    "for station in station_files:\n",
    "    stations_data = []\n",
    "\n",
    "    for name in file_names:\n",
    "        if station in name:\n",
    "            # Load the NetCDF file\n",
    "            basename = os.path.basename(name)\n",
    "            ds = xr.open_dataset(os.path.join(obs_fldr, basename))\n",
    "\n",
    "            # Convert to dataframe\n",
    "            df = ds.to_dataframe().reset_index()\n",
    "\n",
    "            # Extract the wanted variables\n",
    "            df = df[['TIME', 'VHM0']].copy()\n",
    "            df = df.dropna()\n",
    "\n",
    "            stations_data.append(df)\n",
    "\n",
    "    # Convert to csv\n",
    "    full_df = pd.concat(stations_data)\n",
    "    full_df.to_csv(f\"../observations/{station}.csv\", index=False)\n",
    "    print(f\"Saved {station}.csv\")\n"
   ]
  }
 ],
 "metadata": {
  "kernelspec": {
   "display_name": ".venv",
   "language": "python",
   "name": "python3"
  },
  "language_info": {
   "codemirror_mode": {
    "name": "ipython",
    "version": 3
   },
   "file_extension": ".py",
   "mimetype": "text/x-python",
   "name": "python",
   "nbconvert_exporter": "python",
   "pygments_lexer": "ipython3",
   "version": "3.12.10"
  }
 },
 "nbformat": 4,
 "nbformat_minor": 5
}
