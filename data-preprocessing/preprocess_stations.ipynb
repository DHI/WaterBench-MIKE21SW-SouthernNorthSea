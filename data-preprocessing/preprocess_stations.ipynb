{
 "cells": [
  {
   "cell_type": "markdown",
   "id": "c6329c38",
   "metadata": {},
   "source": [
    "# Preprocess stations\n",
    "In this noteook we load the nc files for the stations in stations.txt and convert to csv files."
   ]
  },
  {
   "cell_type": "markdown",
   "id": "5252410d",
   "metadata": {},
   "source": [
    "### Load packages"
   ]
  },
  {
   "cell_type": "code",
   "execution_count": 49,
   "id": "206778aa",
   "metadata": {},
   "outputs": [],
   "source": [
    "import pandas as pd\n",
    "import xarray as xr\n",
    "import numpy as np\n",
    "import time\n",
    "import netCDF4 as nc\n",
    "import os"
   ]
  },
  {
   "cell_type": "markdown",
   "id": "a4985232",
   "metadata": {},
   "source": [
    "### Open and read stations in txt file"
   ]
  },
  {
   "cell_type": "code",
   "execution_count": 56,
   "id": "b25bae21",
   "metadata": {},
   "outputs": [
    {
     "data": {
      "text/plain": [
       "['6202108',\n",
       " 'AkkaertSouthwestBuoy',\n",
       " 'Europlatform2',\n",
       " 'Europlatform3',\n",
       " 'F3platform',\n",
       " 'IJmuidenMunitiestort_',\n",
       " 'J61',\n",
       " 'K13a_',\n",
       " 'K141_',\n",
       " 'KeetenBoei',\n",
       " 'KwintebankBuoy',\n",
       " 'L91_',\n",
       " 'LichteilandGoeree1_',\n",
       " 'MaeslantkeringZeezijdeNoordMeetpaal',\n",
       " 'MaeslantkeringZeezijdeZuidMeetpaal',\n",
       " 'NieuwpoortBuoy',\n",
       " 'Nymindegab',\n",
       " 'Oosterschelde11',\n",
       " 'OstendEasternPalisadeBuoy',\n",
       " 'OverloopVanValkenisse',\n",
       " 'PasVanTerneuzenBoei',\n",
       " 'Q1_',\n",
       " 'WaddenEierlandseGat',\n",
       " 'WesthinderBuoy',\n",
       " 'ZeebruggeZandopvangkadeBuoy',\n",
       " 'ZwinBuoy']"
      ]
     },
     "execution_count": 56,
     "metadata": {},
     "output_type": "execute_result"
    }
   ],
   "source": [
    "with open(\"stations.txt\", \"r\") as f:\n",
    "    station_files = [line.strip() for line in f if line.strip()]\n",
    "\n",
    "station_files"
   ]
  },
  {
   "cell_type": "code",
   "execution_count": 57,
   "id": "1b746b29",
   "metadata": {},
   "outputs": [],
   "source": [
    "# Get full file names from output.txt\n",
    "with open(\"output.txt\", \"r\") as f:\n",
    "    file_names = [line.strip() for line in f if line.strip()]\n",
    "\n",
    "#file_names"
   ]
  },
  {
   "cell_type": "markdown",
   "id": "33bd7c8e",
   "metadata": {},
   "source": [
    "### Convert nc files to csv files"
   ]
  },
  {
   "cell_type": "code",
   "execution_count": 58,
   "id": "f28f82ad",
   "metadata": {},
   "outputs": [
    {
     "data": {
      "text/plain": [
       "['6202108',\n",
       " 'AkkaertSouthwestBuoy',\n",
       " 'Europlatform2',\n",
       " 'Europlatform3',\n",
       " 'F3platform',\n",
       " 'IJmuidenMunitiestort_',\n",
       " 'J61',\n",
       " 'K13a_',\n",
       " 'K141_',\n",
       " 'KeetenBoei',\n",
       " 'KwintebankBuoy',\n",
       " 'L91_',\n",
       " 'LichteilandGoeree1_',\n",
       " 'MaeslantkeringZeezijdeNoordMeetpaal',\n",
       " 'MaeslantkeringZeezijdeZuidMeetpaal',\n",
       " 'NieuwpoortBuoy',\n",
       " 'Nymindegab',\n",
       " 'Oosterschelde11',\n",
       " 'OstendEasternPalisadeBuoy',\n",
       " 'OverloopVanValkenisse',\n",
       " 'PasVanTerneuzenBoei',\n",
       " 'Q1_',\n",
       " 'WaddenEierlandseGat',\n",
       " 'WesthinderBuoy',\n",
       " 'ZeebruggeZandopvangkadeBuoy',\n",
       " 'ZwinBuoy']"
      ]
     },
     "execution_count": 58,
     "metadata": {},
     "output_type": "execute_result"
    }
   ],
   "source": [
    "station_files"
   ]
  },
  {
   "cell_type": "code",
   "execution_count": 59,
   "id": "be179d87",
   "metadata": {},
   "outputs": [
    {
     "name": "stdout",
     "output_type": "stream",
     "text": [
      "Saved 6202108.csv\n",
      "Saved AkkaertSouthwestBuoy.csv\n",
      "Saved Europlatform2.csv\n",
      "Saved Europlatform3.csv\n",
      "Saved F3platform.csv\n",
      "Saved IJmuidenMunitiestort_.csv\n",
      "Saved J61.csv\n",
      "Saved K13a_.csv\n",
      "Saved K141_.csv\n",
      "Saved KeetenBoei.csv\n",
      "Saved KwintebankBuoy.csv\n",
      "Saved L91_.csv\n",
      "Saved LichteilandGoeree1_.csv\n",
      "Saved MaeslantkeringZeezijdeNoordMeetpaal.csv\n",
      "Saved MaeslantkeringZeezijdeZuidMeetpaal.csv\n",
      "Saved NieuwpoortBuoy.csv\n",
      "Saved Nymindegab.csv\n",
      "Saved Oosterschelde11.csv\n",
      "Saved OstendEasternPalisadeBuoy.csv\n",
      "Saved OverloopVanValkenisse.csv\n",
      "Saved PasVanTerneuzenBoei.csv\n",
      "Saved Q1_.csv\n",
      "Saved WaddenEierlandseGat.csv\n",
      "Saved WesthinderBuoy.csv\n",
      "Saved ZeebruggeZandopvangkadeBuoy.csv\n",
      "Saved ZwinBuoy.csv\n"
     ]
    }
   ],
   "source": [
    "# Define observation folder\n",
    "obs_fldr = 'raw-data'\n",
    "\n",
    "for station in station_files:\n",
    "    stations_data = []\n",
    "\n",
    "    for name in file_names:\n",
    "        if station in name:\n",
    "            # Load the NetCDF file\n",
    "            basename = os.path.basename(name)\n",
    "            ds = xr.open_dataset(os.path.join(obs_fldr, basename))\n",
    "\n",
    "            # Convert to dataframe\n",
    "            df = ds.to_dataframe().reset_index()\n",
    "\n",
    "            # Extract the wanted variables\n",
    "            cols = ['TIME']\n",
    "\n",
    "            if 'VHM0' in df.columns:\n",
    "                cols.append('VHM0')\n",
    "\n",
    "            if 'VTZA' in df.columns:\n",
    "                cols.append('VTZA')\n",
    "\n",
    "            if 'VMDR' in df.columns:\n",
    "                cols.append('VMDR')\n",
    "            \n",
    "            if 'VTPK' in df.columns:\n",
    "                cols.append('VTPK')\n",
    "                \n",
    "            df = df[cols].copy()\n",
    "            df = df.dropna()\n",
    "\n",
    "            stations_data.append(df)\n",
    "\n",
    "    # Convert to csv\n",
    "    full_df = pd.concat(stations_data)\n",
    "    full_df.to_csv(f\"../observations/{station}.csv\", index=False)\n",
    "    print(f\"Saved {station}.csv\")\n"
   ]
  }
 ],
 "metadata": {
  "kernelspec": {
   "display_name": "WaterBench-MIKE21SW-SouthernNorthSea",
   "language": "python",
   "name": "python3"
  },
  "language_info": {
   "codemirror_mode": {
    "name": "ipython",
    "version": 3
   },
   "file_extension": ".py",
   "mimetype": "text/x-python",
   "name": "python",
   "nbconvert_exporter": "python",
   "pygments_lexer": "ipython3",
   "version": "3.12.10"
  }
 },
 "nbformat": 4,
 "nbformat_minor": 5
}
