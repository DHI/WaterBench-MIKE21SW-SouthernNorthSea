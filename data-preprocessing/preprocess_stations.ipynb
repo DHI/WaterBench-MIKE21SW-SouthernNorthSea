{
 "cells": [
  {
   "cell_type": "markdown",
   "id": "c6329c38",
   "metadata": {},
   "source": [
    "# Preprocess stations\n",
    "In this noteook we load the nc files for the stations in stations.txt and convert to csv files."
   ]
  },
  {
   "cell_type": "markdown",
   "id": "5252410d",
   "metadata": {},
   "source": [
    "### Load packages"
   ]
  },
  {
   "cell_type": "code",
   "execution_count": 10,
   "id": "206778aa",
   "metadata": {},
   "outputs": [],
   "source": [
    "import pandas as pd\n",
    "import xarray as xr\n",
    "import numpy as np\n",
    "import time\n",
    "import netCDF4 as nc\n",
    "import os"
   ]
  },
  {
   "cell_type": "markdown",
   "id": "a4985232",
   "metadata": {},
   "source": [
    "### Open and read stations in txt file"
   ]
  },
  {
   "cell_type": "code",
   "execution_count": 11,
   "id": "b25bae21",
   "metadata": {},
   "outputs": [
    {
     "data": {
      "text/plain": [
       "['6200145',\n",
       " '6200293',\n",
       " '6201045',\n",
       " '6201050',\n",
       " '6201058',\n",
       " 'A121',\n",
       " 'AkkaertSouthwestBuoy',\n",
       " 'Europlatform2',\n",
       " 'Europlatform3',\n",
       " 'F3platform',\n",
       " 'IJmuidenMunitiestort_',\n",
       " 'J61',\n",
       " 'K13a_',\n",
       " 'K141_',\n",
       " 'KeetenBoei',\n",
       " 'KwintebankBuoy',\n",
       " 'L91_',\n",
       " 'LichteilandGoeree1_',\n",
       " 'MaeslantkeringZeezijdeNoordMeetpaal',\n",
       " 'MaeslantkeringZeezijdeZuidMeetpaal',\n",
       " 'NieuwpoortBuoy',\n",
       " 'Nymindegab',\n",
       " 'Oosterschelde11',\n",
       " 'OstendEasternPalisadeBuoy',\n",
       " 'OverloopVanValkenisse',\n",
       " 'PasVanTerneuzenBoei',\n",
       " 'Q1_',\n",
       " 'WaddenEierlandseGat',\n",
       " 'WesthinderBuoy',\n",
       " 'ZeebruggeZandopvangkadeBuoy',\n",
       " 'ZwinBuoy']"
      ]
     },
     "execution_count": 11,
     "metadata": {},
     "output_type": "execute_result"
    }
   ],
   "source": [
    "with open(\"stations.txt\", \"r\") as f:\n",
    "    station_files = [line.strip() for line in f if line.strip()]\n",
    "\n",
    "station_files"
   ]
  },
  {
   "cell_type": "code",
   "execution_count": 12,
   "id": "1b746b29",
   "metadata": {},
   "outputs": [
    {
     "data": {
      "text/plain": [
       "['INSITU_GLO_PHYBGCWAV_DISCRETE_MYNRT_013_030/cmems_obs-ins_glo_phybgcwav_mynrt_na_irr_202311/monthly/MO/202201/NO_TS_MO_6200145_202201.nc',\n",
       " 'INSITU_GLO_PHYBGCWAV_DISCRETE_MYNRT_013_030/cmems_obs-ins_glo_phybgcwav_mynrt_na_irr_202311/monthly/MO/202202/NO_TS_MO_6200145_202202.nc',\n",
       " 'INSITU_GLO_PHYBGCWAV_DISCRETE_MYNRT_013_030/cmems_obs-ins_glo_phybgcwav_mynrt_na_irr_202311/monthly/MO/202203/NO_TS_MO_6200145_202203.nc',\n",
       " 'INSITU_GLO_PHYBGCWAV_DISCRETE_MYNRT_013_030/cmems_obs-ins_glo_phybgcwav_mynrt_na_irr_202311/monthly/MO/202204/NO_TS_MO_6200145_202204.nc',\n",
       " 'INSITU_GLO_PHYBGCWAV_DISCRETE_MYNRT_013_030/cmems_obs-ins_glo_phybgcwav_mynrt_na_irr_202311/monthly/MO/202205/NO_TS_MO_6200145_202205.nc',\n",
       " 'INSITU_GLO_PHYBGCWAV_DISCRETE_MYNRT_013_030/cmems_obs-ins_glo_phybgcwav_mynrt_na_irr_202311/monthly/MO/202206/NO_TS_MO_6200145_202206.nc',\n",
       " 'INSITU_GLO_PHYBGCWAV_DISCRETE_MYNRT_013_030/cmems_obs-ins_glo_phybgcwav_mynrt_na_irr_202311/monthly/MO/202207/NO_TS_MO_6200145_202207.nc',\n",
       " 'INSITU_GLO_PHYBGCWAV_DISCRETE_MYNRT_013_030/cmems_obs-ins_glo_phybgcwav_mynrt_na_irr_202311/monthly/MO/202208/NO_TS_MO_6200145_202208.nc',\n",
       " 'INSITU_GLO_PHYBGCWAV_DISCRETE_MYNRT_013_030/cmems_obs-ins_glo_phybgcwav_mynrt_na_irr_202311/monthly/MO/202209/NO_TS_MO_6200145_202209.nc',\n",
       " 'INSITU_GLO_PHYBGCWAV_DISCRETE_MYNRT_013_030/cmems_obs-ins_glo_phybgcwav_mynrt_na_irr_202311/monthly/MO/202210/NO_TS_MO_6200145_202210.nc',\n",
       " 'INSITU_GLO_PHYBGCWAV_DISCRETE_MYNRT_013_030/cmems_obs-ins_glo_phybgcwav_mynrt_na_irr_202311/monthly/MO/202211/NO_TS_MO_6200145_202211.nc',\n",
       " 'INSITU_GLO_PHYBGCWAV_DISCRETE_MYNRT_013_030/cmems_obs-ins_glo_phybgcwav_mynrt_na_irr_202311/monthly/MO/202212/NO_TS_MO_6200145_202212.nc',\n",
       " 'INSITU_GLO_PHYBGCWAV_DISCRETE_MYNRT_013_030/cmems_obs-ins_glo_phybgcwav_mynrt_na_irr_202311/monthly/MO/202201/NO_TS_MO_6201045_202201.nc',\n",
       " 'INSITU_GLO_PHYBGCWAV_DISCRETE_MYNRT_013_030/cmems_obs-ins_glo_phybgcwav_mynrt_na_irr_202311/monthly/MO/202203/NO_TS_MO_6201045_202203.nc',\n",
       " 'INSITU_GLO_PHYBGCWAV_DISCRETE_MYNRT_013_030/cmems_obs-ins_glo_phybgcwav_mynrt_na_irr_202311/monthly/MO/202204/NO_TS_MO_6201045_202204.nc',\n",
       " 'INSITU_GLO_PHYBGCWAV_DISCRETE_MYNRT_013_030/cmems_obs-ins_glo_phybgcwav_mynrt_na_irr_202311/monthly/MO/202205/NO_TS_MO_6201045_202205.nc',\n",
       " 'INSITU_GLO_PHYBGCWAV_DISCRETE_MYNRT_013_030/cmems_obs-ins_glo_phybgcwav_mynrt_na_irr_202311/monthly/MO/202206/NO_TS_MO_6201045_202206.nc',\n",
       " 'INSITU_GLO_PHYBGCWAV_DISCRETE_MYNRT_013_030/cmems_obs-ins_glo_phybgcwav_mynrt_na_irr_202311/monthly/MO/202207/NO_TS_MO_6201045_202207.nc',\n",
       " 'INSITU_GLO_PHYBGCWAV_DISCRETE_MYNRT_013_030/cmems_obs-ins_glo_phybgcwav_mynrt_na_irr_202311/monthly/MO/202208/NO_TS_MO_6201045_202208.nc',\n",
       " 'INSITU_GLO_PHYBGCWAV_DISCRETE_MYNRT_013_030/cmems_obs-ins_glo_phybgcwav_mynrt_na_irr_202311/monthly/MO/202209/NO_TS_MO_6201045_202209.nc',\n",
       " 'INSITU_GLO_PHYBGCWAV_DISCRETE_MYNRT_013_030/cmems_obs-ins_glo_phybgcwav_mynrt_na_irr_202311/monthly/MO/202210/NO_TS_MO_6201045_202210.nc',\n",
       " 'INSITU_GLO_PHYBGCWAV_DISCRETE_MYNRT_013_030/cmems_obs-ins_glo_phybgcwav_mynrt_na_irr_202311/monthly/MO/202211/NO_TS_MO_6201045_202211.nc',\n",
       " 'INSITU_GLO_PHYBGCWAV_DISCRETE_MYNRT_013_030/cmems_obs-ins_glo_phybgcwav_mynrt_na_irr_202311/monthly/MO/202212/NO_TS_MO_6201045_202212.nc',\n",
       " 'INSITU_GLO_PHYBGCWAV_DISCRETE_MYNRT_013_030/cmems_obs-ins_glo_phybgcwav_mynrt_na_irr_202311/monthly/MO/202201/NO_TS_MO_6201050_202201.nc',\n",
       " 'INSITU_GLO_PHYBGCWAV_DISCRETE_MYNRT_013_030/cmems_obs-ins_glo_phybgcwav_mynrt_na_irr_202311/monthly/MO/202202/NO_TS_MO_6201050_202202.nc',\n",
       " 'INSITU_GLO_PHYBGCWAV_DISCRETE_MYNRT_013_030/cmems_obs-ins_glo_phybgcwav_mynrt_na_irr_202311/monthly/MO/202203/NO_TS_MO_6201050_202203.nc',\n",
       " 'INSITU_GLO_PHYBGCWAV_DISCRETE_MYNRT_013_030/cmems_obs-ins_glo_phybgcwav_mynrt_na_irr_202311/monthly/MO/202204/NO_TS_MO_6201050_202204.nc',\n",
       " 'INSITU_GLO_PHYBGCWAV_DISCRETE_MYNRT_013_030/cmems_obs-ins_glo_phybgcwav_mynrt_na_irr_202311/monthly/MO/202205/NO_TS_MO_6201050_202205.nc',\n",
       " 'INSITU_GLO_PHYBGCWAV_DISCRETE_MYNRT_013_030/cmems_obs-ins_glo_phybgcwav_mynrt_na_irr_202311/monthly/MO/202206/NO_TS_MO_6201050_202206.nc',\n",
       " 'INSITU_GLO_PHYBGCWAV_DISCRETE_MYNRT_013_030/cmems_obs-ins_glo_phybgcwav_mynrt_na_irr_202311/monthly/MO/202207/NO_TS_MO_6201050_202207.nc',\n",
       " 'INSITU_GLO_PHYBGCWAV_DISCRETE_MYNRT_013_030/cmems_obs-ins_glo_phybgcwav_mynrt_na_irr_202311/monthly/MO/202208/NO_TS_MO_6201050_202208.nc',\n",
       " 'INSITU_GLO_PHYBGCWAV_DISCRETE_MYNRT_013_030/cmems_obs-ins_glo_phybgcwav_mynrt_na_irr_202311/monthly/MO/202209/NO_TS_MO_6201050_202209.nc',\n",
       " 'INSITU_GLO_PHYBGCWAV_DISCRETE_MYNRT_013_030/cmems_obs-ins_glo_phybgcwav_mynrt_na_irr_202311/monthly/MO/202210/NO_TS_MO_6201050_202210.nc',\n",
       " 'INSITU_GLO_PHYBGCWAV_DISCRETE_MYNRT_013_030/cmems_obs-ins_glo_phybgcwav_mynrt_na_irr_202311/monthly/MO/202211/NO_TS_MO_6201050_202211.nc',\n",
       " 'INSITU_GLO_PHYBGCWAV_DISCRETE_MYNRT_013_030/cmems_obs-ins_glo_phybgcwav_mynrt_na_irr_202311/monthly/MO/202212/NO_TS_MO_6201050_202212.nc',\n",
       " 'INSITU_GLO_PHYBGCWAV_DISCRETE_MYNRT_013_030/cmems_obs-ins_glo_phybgcwav_mynrt_na_irr_202311/monthly/MO/202201/NO_TS_MO_A121_202201.nc',\n",
       " 'INSITU_GLO_PHYBGCWAV_DISCRETE_MYNRT_013_030/cmems_obs-ins_glo_phybgcwav_mynrt_na_irr_202311/monthly/MO/202202/NO_TS_MO_A121_202202.nc',\n",
       " 'INSITU_GLO_PHYBGCWAV_DISCRETE_MYNRT_013_030/cmems_obs-ins_glo_phybgcwav_mynrt_na_irr_202311/monthly/MO/202203/NO_TS_MO_A121_202203.nc',\n",
       " 'INSITU_GLO_PHYBGCWAV_DISCRETE_MYNRT_013_030/cmems_obs-ins_glo_phybgcwav_mynrt_na_irr_202311/monthly/MO/202204/NO_TS_MO_A121_202204.nc',\n",
       " 'INSITU_GLO_PHYBGCWAV_DISCRETE_MYNRT_013_030/cmems_obs-ins_glo_phybgcwav_mynrt_na_irr_202311/monthly/MO/202205/NO_TS_MO_A121_202205.nc',\n",
       " 'INSITU_GLO_PHYBGCWAV_DISCRETE_MYNRT_013_030/cmems_obs-ins_glo_phybgcwav_mynrt_na_irr_202311/monthly/TG/202201/NO_TS_TG_A121TG_202201.nc',\n",
       " 'INSITU_GLO_PHYBGCWAV_DISCRETE_MYNRT_013_030/cmems_obs-ins_glo_phybgcwav_mynrt_na_irr_202311/monthly/TG/202202/NO_TS_TG_A121TG_202202.nc',\n",
       " 'INSITU_GLO_PHYBGCWAV_DISCRETE_MYNRT_013_030/cmems_obs-ins_glo_phybgcwav_mynrt_na_irr_202311/monthly/TG/202203/NO_TS_TG_A121TG_202203.nc',\n",
       " 'INSITU_GLO_PHYBGCWAV_DISCRETE_MYNRT_013_030/cmems_obs-ins_glo_phybgcwav_mynrt_na_irr_202311/monthly/TG/202204/NO_TS_TG_A121TG_202204.nc',\n",
       " 'INSITU_GLO_PHYBGCWAV_DISCRETE_MYNRT_013_030/cmems_obs-ins_glo_phybgcwav_mynrt_na_irr_202311/monthly/TG/202205/NO_TS_TG_A121TG_202205.nc',\n",
       " 'INSITU_GLO_PHYBGCWAV_DISCRETE_MYNRT_013_030/cmems_obs-ins_glo_phybgcwav_mynrt_na_irr_202311/monthly/TG/202206/NO_TS_TG_A121TG_202206.nc',\n",
       " 'INSITU_GLO_PHYBGCWAV_DISCRETE_MYNRT_013_030/cmems_obs-ins_glo_phybgcwav_mynrt_na_irr_202311/monthly/TG/202207/NO_TS_TG_A121TG_202207.nc',\n",
       " 'INSITU_GLO_PHYBGCWAV_DISCRETE_MYNRT_013_030/cmems_obs-ins_glo_phybgcwav_mynrt_na_irr_202311/monthly/TG/202208/NO_TS_TG_A121TG_202208.nc',\n",
       " 'INSITU_GLO_PHYBGCWAV_DISCRETE_MYNRT_013_030/cmems_obs-ins_glo_phybgcwav_mynrt_na_irr_202311/monthly/TG/202209/NO_TS_TG_A121TG_202209.nc',\n",
       " 'INSITU_GLO_PHYBGCWAV_DISCRETE_MYNRT_013_030/cmems_obs-ins_glo_phybgcwav_mynrt_na_irr_202311/monthly/TG/202210/NO_TS_TG_A121TG_202210.nc',\n",
       " 'INSITU_GLO_PHYBGCWAV_DISCRETE_MYNRT_013_030/cmems_obs-ins_glo_phybgcwav_mynrt_na_irr_202311/monthly/TG/202211/NO_TS_TG_A121TG_202211.nc',\n",
       " 'INSITU_GLO_PHYBGCWAV_DISCRETE_MYNRT_013_030/cmems_obs-ins_glo_phybgcwav_mynrt_na_irr_202311/monthly/TG/202212/NO_TS_TG_A121TG_202212.nc']"
      ]
     },
     "execution_count": 12,
     "metadata": {},
     "output_type": "execute_result"
    }
   ],
   "source": [
    "# Get full file names from output.txt\n",
    "with open(\"output.txt\", \"r\") as f:\n",
    "    file_names = [line.strip() for line in f if line.strip()]\n",
    "\n",
    "file_names"
   ]
  },
  {
   "cell_type": "markdown",
   "id": "33bd7c8e",
   "metadata": {},
   "source": [
    "### Convert nc files to csv files"
   ]
  },
  {
   "cell_type": "code",
   "execution_count": 13,
   "id": "f28f82ad",
   "metadata": {},
   "outputs": [
    {
     "data": {
      "text/plain": [
       "['6200145',\n",
       " '6200293',\n",
       " '6201045',\n",
       " '6201050',\n",
       " '6201058',\n",
       " 'A121',\n",
       " 'AkkaertSouthwestBuoy',\n",
       " 'Europlatform2',\n",
       " 'Europlatform3',\n",
       " 'F3platform',\n",
       " 'IJmuidenMunitiestort_',\n",
       " 'J61',\n",
       " 'K13a_',\n",
       " 'K141_',\n",
       " 'KeetenBoei',\n",
       " 'KwintebankBuoy',\n",
       " 'L91_',\n",
       " 'LichteilandGoeree1_',\n",
       " 'MaeslantkeringZeezijdeNoordMeetpaal',\n",
       " 'MaeslantkeringZeezijdeZuidMeetpaal',\n",
       " 'NieuwpoortBuoy',\n",
       " 'Nymindegab',\n",
       " 'Oosterschelde11',\n",
       " 'OstendEasternPalisadeBuoy',\n",
       " 'OverloopVanValkenisse',\n",
       " 'PasVanTerneuzenBoei',\n",
       " 'Q1_',\n",
       " 'WaddenEierlandseGat',\n",
       " 'WesthinderBuoy',\n",
       " 'ZeebruggeZandopvangkadeBuoy',\n",
       " 'ZwinBuoy']"
      ]
     },
     "execution_count": 13,
     "metadata": {},
     "output_type": "execute_result"
    }
   ],
   "source": [
    "station_files"
   ]
  },
  {
   "cell_type": "code",
   "execution_count": 8,
   "id": "be179d87",
   "metadata": {},
   "outputs": [
    {
     "name": "stdout",
     "output_type": "stream",
     "text": [
      "Saved 6200145.csv\n"
     ]
    },
    {
     "ename": "ValueError",
     "evalue": "No objects to concatenate",
     "output_type": "error",
     "traceback": [
      "\u001b[31m---------------------------------------------------------------------------\u001b[39m",
      "\u001b[31mValueError\u001b[39m                                Traceback (most recent call last)",
      "\u001b[36mCell\u001b[39m\u001b[36m \u001b[39m\u001b[32mIn[8]\u001b[39m\u001b[32m, line 37\u001b[39m\n\u001b[32m     34\u001b[39m         stations_data.append(df)\n\u001b[32m     36\u001b[39m \u001b[38;5;66;03m# Convert to csv\u001b[39;00m\n\u001b[32m---> \u001b[39m\u001b[32m37\u001b[39m full_df = \u001b[43mpd\u001b[49m\u001b[43m.\u001b[49m\u001b[43mconcat\u001b[49m\u001b[43m(\u001b[49m\u001b[43mstations_data\u001b[49m\u001b[43m)\u001b[49m\n\u001b[32m     38\u001b[39m full_df.to_csv(\u001b[33mf\u001b[39m\u001b[33m\"\u001b[39m\u001b[33m../observations/\u001b[39m\u001b[38;5;132;01m{\u001b[39;00mstation\u001b[38;5;132;01m}\u001b[39;00m\u001b[33m.csv\u001b[39m\u001b[33m\"\u001b[39m, index=\u001b[38;5;28;01mFalse\u001b[39;00m)\n\u001b[32m     39\u001b[39m \u001b[38;5;28mprint\u001b[39m(\u001b[33mf\u001b[39m\u001b[33m\"\u001b[39m\u001b[33mSaved \u001b[39m\u001b[38;5;132;01m{\u001b[39;00mstation\u001b[38;5;132;01m}\u001b[39;00m\u001b[33m.csv\u001b[39m\u001b[33m\"\u001b[39m)\n",
      "\u001b[36mFile \u001b[39m\u001b[32mc:\\Users\\muje\\Projects\\WaterBench-MIKE21SW-SouthernNorthSea\\.venv\\Lib\\site-packages\\pandas\\core\\reshape\\concat.py:382\u001b[39m, in \u001b[36mconcat\u001b[39m\u001b[34m(objs, axis, join, ignore_index, keys, levels, names, verify_integrity, sort, copy)\u001b[39m\n\u001b[32m    379\u001b[39m \u001b[38;5;28;01melif\u001b[39;00m copy \u001b[38;5;129;01mand\u001b[39;00m using_copy_on_write():\n\u001b[32m    380\u001b[39m     copy = \u001b[38;5;28;01mFalse\u001b[39;00m\n\u001b[32m--> \u001b[39m\u001b[32m382\u001b[39m op = \u001b[43m_Concatenator\u001b[49m\u001b[43m(\u001b[49m\n\u001b[32m    383\u001b[39m \u001b[43m    \u001b[49m\u001b[43mobjs\u001b[49m\u001b[43m,\u001b[49m\n\u001b[32m    384\u001b[39m \u001b[43m    \u001b[49m\u001b[43maxis\u001b[49m\u001b[43m=\u001b[49m\u001b[43maxis\u001b[49m\u001b[43m,\u001b[49m\n\u001b[32m    385\u001b[39m \u001b[43m    \u001b[49m\u001b[43mignore_index\u001b[49m\u001b[43m=\u001b[49m\u001b[43mignore_index\u001b[49m\u001b[43m,\u001b[49m\n\u001b[32m    386\u001b[39m \u001b[43m    \u001b[49m\u001b[43mjoin\u001b[49m\u001b[43m=\u001b[49m\u001b[43mjoin\u001b[49m\u001b[43m,\u001b[49m\n\u001b[32m    387\u001b[39m \u001b[43m    \u001b[49m\u001b[43mkeys\u001b[49m\u001b[43m=\u001b[49m\u001b[43mkeys\u001b[49m\u001b[43m,\u001b[49m\n\u001b[32m    388\u001b[39m \u001b[43m    \u001b[49m\u001b[43mlevels\u001b[49m\u001b[43m=\u001b[49m\u001b[43mlevels\u001b[49m\u001b[43m,\u001b[49m\n\u001b[32m    389\u001b[39m \u001b[43m    \u001b[49m\u001b[43mnames\u001b[49m\u001b[43m=\u001b[49m\u001b[43mnames\u001b[49m\u001b[43m,\u001b[49m\n\u001b[32m    390\u001b[39m \u001b[43m    \u001b[49m\u001b[43mverify_integrity\u001b[49m\u001b[43m=\u001b[49m\u001b[43mverify_integrity\u001b[49m\u001b[43m,\u001b[49m\n\u001b[32m    391\u001b[39m \u001b[43m    \u001b[49m\u001b[43mcopy\u001b[49m\u001b[43m=\u001b[49m\u001b[43mcopy\u001b[49m\u001b[43m,\u001b[49m\n\u001b[32m    392\u001b[39m \u001b[43m    \u001b[49m\u001b[43msort\u001b[49m\u001b[43m=\u001b[49m\u001b[43msort\u001b[49m\u001b[43m,\u001b[49m\n\u001b[32m    393\u001b[39m \u001b[43m\u001b[49m\u001b[43m)\u001b[49m\n\u001b[32m    395\u001b[39m \u001b[38;5;28;01mreturn\u001b[39;00m op.get_result()\n",
      "\u001b[36mFile \u001b[39m\u001b[32mc:\\Users\\muje\\Projects\\WaterBench-MIKE21SW-SouthernNorthSea\\.venv\\Lib\\site-packages\\pandas\\core\\reshape\\concat.py:445\u001b[39m, in \u001b[36m_Concatenator.__init__\u001b[39m\u001b[34m(self, objs, axis, join, keys, levels, names, ignore_index, verify_integrity, copy, sort)\u001b[39m\n\u001b[32m    442\u001b[39m \u001b[38;5;28mself\u001b[39m.verify_integrity = verify_integrity\n\u001b[32m    443\u001b[39m \u001b[38;5;28mself\u001b[39m.copy = copy\n\u001b[32m--> \u001b[39m\u001b[32m445\u001b[39m objs, keys = \u001b[38;5;28;43mself\u001b[39;49m\u001b[43m.\u001b[49m\u001b[43m_clean_keys_and_objs\u001b[49m\u001b[43m(\u001b[49m\u001b[43mobjs\u001b[49m\u001b[43m,\u001b[49m\u001b[43m \u001b[49m\u001b[43mkeys\u001b[49m\u001b[43m)\u001b[49m\n\u001b[32m    447\u001b[39m \u001b[38;5;66;03m# figure out what our result ndim is going to be\u001b[39;00m\n\u001b[32m    448\u001b[39m ndims = \u001b[38;5;28mself\u001b[39m._get_ndims(objs)\n",
      "\u001b[36mFile \u001b[39m\u001b[32mc:\\Users\\muje\\Projects\\WaterBench-MIKE21SW-SouthernNorthSea\\.venv\\Lib\\site-packages\\pandas\\core\\reshape\\concat.py:507\u001b[39m, in \u001b[36m_Concatenator._clean_keys_and_objs\u001b[39m\u001b[34m(self, objs, keys)\u001b[39m\n\u001b[32m    504\u001b[39m     objs_list = \u001b[38;5;28mlist\u001b[39m(objs)\n\u001b[32m    506\u001b[39m \u001b[38;5;28;01mif\u001b[39;00m \u001b[38;5;28mlen\u001b[39m(objs_list) == \u001b[32m0\u001b[39m:\n\u001b[32m--> \u001b[39m\u001b[32m507\u001b[39m     \u001b[38;5;28;01mraise\u001b[39;00m \u001b[38;5;167;01mValueError\u001b[39;00m(\u001b[33m\"\u001b[39m\u001b[33mNo objects to concatenate\u001b[39m\u001b[33m\"\u001b[39m)\n\u001b[32m    509\u001b[39m \u001b[38;5;28;01mif\u001b[39;00m keys \u001b[38;5;129;01mis\u001b[39;00m \u001b[38;5;28;01mNone\u001b[39;00m:\n\u001b[32m    510\u001b[39m     objs_list = \u001b[38;5;28mlist\u001b[39m(com.not_none(*objs_list))\n",
      "\u001b[31mValueError\u001b[39m: No objects to concatenate"
     ]
    }
   ],
   "source": [
    "# Define observation folder\n",
    "obs_fldr = 'raw-data'\n",
    "\n",
    "for station in station_files:\n",
    "    stations_data = []\n",
    "\n",
    "    for name in file_names:\n",
    "        if station in name:\n",
    "            # Load the NetCDF file\n",
    "            basename = os.path.basename(name)\n",
    "            ds = xr.open_dataset(os.path.join(obs_fldr, basename))\n",
    "\n",
    "            # Convert to dataframe\n",
    "            df = ds.to_dataframe().reset_index()\n",
    "\n",
    "            # Extract the wanted variables\n",
    "            cols = ['TIME']\n",
    "\n",
    "            if 'VHM0' in df.columns:\n",
    "                cols.append('VHM0')\n",
    "\n",
    "            if 'VTZA' in df.columns:\n",
    "                cols.append('VTZA')\n",
    "\n",
    "            if 'VMDR' in df.columns:\n",
    "                cols.append('VMDR')\n",
    "            \n",
    "            if 'VTPK' in df.columns:\n",
    "                cols.append('VTPK')\n",
    "                \n",
    "            df = df[cols].copy()\n",
    "            df = df.dropna()\n",
    "\n",
    "            stations_data.append(df)\n",
    "\n",
    "    # Convert to csv\n",
    "    full_df = pd.concat(stations_data)\n",
    "    full_df.to_csv(f\"../observations/{station}.csv\", index=False)\n",
    "    print(f\"Saved {station}.csv\")\n"
   ]
  }
 ],
 "metadata": {
  "kernelspec": {
   "display_name": "WaterBench-MIKE21SW-SouthernNorthSea",
   "language": "python",
   "name": "python3"
  },
  "language_info": {
   "codemirror_mode": {
    "name": "ipython",
    "version": 3
   },
   "file_extension": ".py",
   "mimetype": "text/x-python",
   "name": "python",
   "nbconvert_exporter": "python",
   "pygments_lexer": "ipython3",
   "version": "3.12.10"
  }
 },
 "nbformat": 4,
 "nbformat_minor": 5
}
